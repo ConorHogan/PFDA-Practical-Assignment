{
 "cells": [
  {
   "cell_type": "markdown",
   "metadata": {},
   "source": [
    "# Numpy.Random - A journey"
   ]
  },
  {
   "cell_type": "markdown",
   "metadata": {},
   "source": [
    "## The Purpose of the Package"
   ]
  },
  {
   "cell_type": "markdown",
   "metadata": {},
   "source": [
    "Random numbers are used for a variety of purposes. There are purposes known to everyone such as games and gambling, as well as other, less known purpsed like encryption, simulations, and selecting random samples from larger datasets."
   ]
  },
  {
   "cell_type": "markdown",
   "metadata": {},
   "source": [
    "There are two types of random number generator: (1) True Random Number generators, and (2) Psuedo Random Number generators. \n",
    "The Numpy.Random package is a Pseudo random number generator. Pseudo Random number generators differ from True random number generators in that the numbers are not really random. They are based on algorithm (the Mersenne Twister in Python's case) that selects numbers that seem random, but in reality can be reproduced or predicted if you manage to see what is happening \"under the hood\". This is what makes pseudo random number unreliable for security purposes such as encryption or generating passwords. True random number generators are impossible to predict (or close enough). One example of a True Random Number generator would be rolling a dice and seeing what you get. This would be pretty labourious for commercial application, so people have created several methods for getting true random numbers such as RANDOM.ORG which uses atmospheric noise or others that use quantum phenoena. As true random number generators can only produce a limited number of random numbers per second, they are often used to create the seed for a faster pseudorandom number generator. Python does have a seperate package for generating cryptographically strong random numbers, which is called Secrets."
   ]
  },
  {
   "cell_type": "code",
   "execution_count": null,
   "metadata": {},
   "outputs": [],
   "source": []
  },
  {
   "cell_type": "code",
   "execution_count": null,
   "metadata": {},
   "outputs": [],
   "source": []
  },
  {
   "cell_type": "markdown",
   "metadata": {},
   "source": [
    "## Simple Random Data and Permutations"
   ]
  },
  {
   "cell_type": "markdown",
   "metadata": {},
   "source": [
    "### Simple Random Data"
   ]
  },
  {
   "cell_type": "markdown",
   "metadata": {},
   "source": [
    "### What is the user of the Simple Random Data function"
   ]
  },
  {
   "cell_type": "markdown",
   "metadata": {},
   "source": []
  },
  {
   "cell_type": "markdown",
   "metadata": {},
   "source": [
    "#### 1. rand"
   ]
  },
  {
   "cell_type": "markdown",
   "metadata": {},
   "source": [
    "Creates random numbers in a uniform distribution, meaning that the values are completely random. You can also specify the shape of the numbers in multiple dimensions. Entering one arguement will create a line. All numbers generate will be between 0 and 1."
   ]
  },
  {
   "cell_type": "code",
   "execution_count": 1,
   "metadata": {},
   "outputs": [
    {
     "name": "stdout",
     "output_type": "stream",
     "text": [
      "[0.08240021 0.91599237 0.20113967 0.72700372 0.38174968 0.26436005\n",
      " 0.86772461 0.83585686 0.64731232 0.01498146]\n"
     ]
    },
    {
     "data": {
      "text/plain": [
       "<Figure size 640x480 with 1 Axes>"
      ]
     },
     "metadata": {},
     "output_type": "display_data"
    }
   ],
   "source": [
    "import numpy as np\n",
    "import pandas as pd\n",
    "import seaborn as sns\n",
    "import matplotlib.pyplot as plt\n",
    "from scipy import stats\n",
    "\n",
    "list = np.random.rand(10)\n",
    "print(list)\n",
    "plt.plot(list)\n",
    "plt.show()\n",
    "    "
   ]
  },
  {
   "cell_type": "markdown",
   "metadata": {},
   "source": [
    "It can also be used to create a random number"
   ]
  },
  {
   "cell_type": "code",
   "execution_count": 2,
   "metadata": {},
   "outputs": [
    {
     "data": {
      "text/plain": [
       "0.4555840772185018"
      ]
     },
     "execution_count": 2,
     "metadata": {},
     "output_type": "execute_result"
    }
   ],
   "source": [
    "np.random.rand()"
   ]
  },
  {
   "cell_type": "markdown",
   "metadata": {},
   "source": [
    "#### randn"
   ]
  },
  {
   "cell_type": "markdown",
   "metadata": {},
   "source": [
    "This function produces random number is a normal distribution as a opposed to a uniform distribution. It can take either an integer or shape as it's input. A normal distribution results in a \"bell curve\" when charted. This mean that higher percentate of the floats produced by the function will be clustered around the mean. 68.26% will be one standard deviation above or below the mean. 95.44% will be two standard deviation away from the mean. 99.72% will be 3 standard deviations away from the mean. \n",
    "\n",
    "When using *randn* the distribution produced will always have a mean of 0 and variance of 1"
   ]
  },
  {
   "cell_type": "code",
   "execution_count": 3,
   "metadata": {},
   "outputs": [
    {
     "name": "stderr",
     "output_type": "stream",
     "text": [
      "C:\\Users\\Conor\\Anaconda3\\lib\\site-packages\\scipy\\stats\\stats.py:1713: FutureWarning: Using a non-tuple sequence for multidimensional indexing is deprecated; use `arr[tuple(seq)]` instead of `arr[seq]`. In the future this will be interpreted as an array index, `arr[np.array(seq)]`, which will result either in an error or a different result.\n",
      "  return np.add.reduce(sorted[indexer] * weights, axis=axis) / sumval\n"
     ]
    },
    {
     "data": {
      "text/plain": [
       "<matplotlib.axes._subplots.AxesSubplot at 0x142148450b8>"
      ]
     },
     "execution_count": 3,
     "metadata": {},
     "output_type": "execute_result"
    },
    {
     "data": {
      "image/png": "[encoded data removed]",
      "text/plain": [
       "<Figure size 432x288 with 1 Axes>"
      ]
     },
     "metadata": {
      "needs_background": "light"
     },
     "output_type": "display_data"
    }
   ],
   "source": [
    "randnarray = np.random.randn(100000,1)\n",
    "\n",
    "sns.distplot(randnarray)"
   ]
  },
  {
   "cell_type": "markdown",
   "metadata": {},
   "source": [
    "#### randint"
   ]
  },
  {
   "cell_type": "markdown",
   "metadata": {},
   "source": [
    "This function produces random integers in the range that is inputted. You can also specify the amount of numbers to be produced. If no \"size\" is specified the function will just produce one result. The upper range must always be one higher than the highest number you want to select from. For example, if 10 is the highest number you want, then you must enter 11 in the function parameters."
   ]
  },
  {
   "cell_type": "code",
   "execution_count": 4,
   "metadata": {},
   "outputs": [
    {
     "data": {
      "text/plain": [
       "1"
      ]
     },
     "execution_count": 4,
     "metadata": {},
     "output_type": "execute_result"
    }
   ],
   "source": [
    "# Picking a number between 1 and 10\n",
    "np.random.randint(0, 11)"
   ]
  },
  {
   "cell_type": "code",
   "execution_count": 5,
   "metadata": {},
   "outputs": [
    {
     "data": {
      "text/plain": [
       "-7"
      ]
     },
     "execution_count": 5,
     "metadata": {},
     "output_type": "execute_result"
    }
   ],
   "source": [
    "# Pick a number between -1 and -10\n",
    "np.random.randint(-10, 0)"
   ]
  },
  {
   "cell_type": "code",
   "execution_count": 6,
   "metadata": {},
   "outputs": [
    {
     "data": {
      "text/plain": [
       "117"
      ]
     },
     "execution_count": 6,
     "metadata": {},
     "output_type": "execute_result"
    }
   ],
   "source": [
    "# 10 random numbers from between 100 and 200.\n",
    "np.random.randint(100, 201)"
   ]
  },
  {
   "cell_type": "markdown",
   "metadata": {},
   "source": [
    "It is also possible to produce different shapes by entering a tuple as the \"size\" parameter. "
   ]
  },
  {
   "cell_type": "code",
   "execution_count": 7,
   "metadata": {},
   "outputs": [
    {
     "data": {
      "text/plain": [
       "array([[[ 5,  9,  3,  0,  3],\n",
       "        [ 9,  0,  5,  3,  3]],\n",
       "\n",
       "       [[ 6,  7,  8,  2, 10],\n",
       "        [ 8,  3,  7,  1, 10]],\n",
       "\n",
       "       [[ 5,  5,  4,  9, 10],\n",
       "        [ 0,  4,  5,  1,  3]]])"
      ]
     },
     "execution_count": 7,
     "metadata": {},
     "output_type": "execute_result"
    }
   ],
   "source": [
    "np.random.randint(11, size=(3,2,5))"
   ]
  },
  {
   "cell_type": "markdown",
   "metadata": {},
   "source": [
    "Finally, you can also specify the data type (dtype). "
   ]
  },
  {
   "cell_type": "code",
   "execution_count": 8,
   "metadata": {},
   "outputs": [
    {
     "data": {
      "text/plain": [
       "0"
      ]
     },
     "execution_count": 8,
     "metadata": {},
     "output_type": "execute_result"
    }
   ],
   "source": [
    "np.random.randint(1, dtype=\"int\")"
   ]
  },
  {
   "cell_type": "markdown",
   "metadata": {},
   "source": [
    "Floats and complex numbers are not supported, boolean outputs are as long as you limit the \"high\" value to 2."
   ]
  },
  {
   "cell_type": "code",
   "execution_count": 9,
   "metadata": {},
   "outputs": [
    {
     "data": {
      "text/plain": [
       "False"
      ]
     },
     "execution_count": 9,
     "metadata": {},
     "output_type": "execute_result"
    }
   ],
   "source": [
    "np.random.randint(2, dtype=\"bool\")"
   ]
  },
  {
   "cell_type": "markdown",
   "metadata": {},
   "source": [
    "#### Use: Random phone number generator or dice rolls"
   ]
  },
  {
   "cell_type": "markdown",
   "metadata": {},
   "source": [
    "       "
   ]
  },
  {
   "cell_type": "markdown",
   "metadata": {},
   "source": [
    "#### random_integers"
   ]
  },
  {
   "cell_type": "markdown",
   "metadata": {},
   "source": [
    "This is a deprecated function that has been replaced by *randint* which is discussed above."
   ]
  },
  {
   "cell_type": "markdown",
   "metadata": {},
   "source": [
    "#### random_sample, random, ranf, sample"
   ]
  },
  {
   "cell_type": "markdown",
   "metadata": {},
   "source": [
    "These four functions all return a random float or array of floats depending on the parameters used. "
   ]
  },
  {
   "cell_type": "code",
   "execution_count": 10,
   "metadata": {},
   "outputs": [
    {
     "data": {
      "text/plain": [
       "0.7175693151056044"
      ]
     },
     "execution_count": 10,
     "metadata": {},
     "output_type": "execute_result"
    }
   ],
   "source": [
    "# single random float\n",
    "np.random.random_sample()"
   ]
  },
  {
   "cell_type": "code",
   "execution_count": 11,
   "metadata": {},
   "outputs": [
    {
     "data": {
      "text/plain": [
       "array([[0.7535529 , 0.70508858],\n",
       "       [0.93897762, 0.35588065],\n",
       "       [0.94831003, 0.72536247],\n",
       "       [0.5213013 , 0.04112516],\n",
       "       [0.52359692, 0.25464916]])"
      ]
     },
     "execution_count": 11,
     "metadata": {},
     "output_type": "execute_result"
    }
   ],
   "source": [
    "# array of floats\n",
    "np.random.random((5,2))"
   ]
  },
  {
   "cell_type": "markdown",
   "metadata": {},
   "source": [
    "#### choice"
   ]
  },
  {
   "cell_type": "markdown",
   "metadata": {},
   "source": [
    "This function selects random options from a given one dimensional array. The options can be ints, floats, or an array like object such a list or tuple.\n",
    "\n",
    "For example, you could use this to randomly select a city in Ireland."
   ]
  },
  {
   "cell_type": "code",
   "execution_count": 12,
   "metadata": {},
   "outputs": [
    {
     "name": "stdout",
     "output_type": "stream",
     "text": [
      "You're going to Kilkenny!!!!\n"
     ]
    }
   ],
   "source": [
    "# Where will I go for the long weekend?\n",
    "\n",
    "cities = [\"Limerick\", \"Galway\", \"Cork\", \"Dublin\", \"Waterford\", \"Kilkenny\"]\n",
    "print(\"You're going to \" + np.random.choice(cities) + \"!!!!\")"
   ]
  },
  {
   "cell_type": "markdown",
   "metadata": {},
   "source": [
    "As with all the previous random functions, you can also specify the shape of the data you want to select. You can also choose to prevent the same result being returned twice using the \"replacement\" parameter."
   ]
  },
  {
   "cell_type": "code",
   "execution_count": 13,
   "metadata": {},
   "outputs": [
    {
     "data": {
      "text/plain": [
       "array([['Limerick', 'Galway', 'Cork'],\n",
       "       ['Cork', 'Galway', 'Dublin']], dtype='<U9')"
      ]
     },
     "execution_count": 13,
     "metadata": {},
     "output_type": "execute_result"
    }
   ],
   "source": [
    "# Randomly rank the cities in two tiers - without using replacement you can end up with the same city in both tiers.\n",
    "\n",
    "np.random.choice(cities, size=(2,3))"
   ]
  },
  {
   "cell_type": "code",
   "execution_count": 14,
   "metadata": {},
   "outputs": [
    {
     "data": {
      "text/plain": [
       "array([['Limerick', 'Dublin', 'Cork'],\n",
       "       ['Waterford', 'Galway', 'Kilkenny']], dtype='<U9')"
      ]
     },
     "execution_count": 14,
     "metadata": {},
     "output_type": "execute_result"
    }
   ],
   "source": [
    "# Randomly rank the cities in two tiers - with replacement = false you will get two sets of unique values\n",
    "\n",
    "np.random.choice(cities, size=(2,3), replace=False)"
   ]
  },
  {
   "cell_type": "markdown",
   "metadata": {},
   "source": [
    "Finally, you can also weight the probability of a certain option being selected. The sum of the probabilites must be 1."
   ]
  },
  {
   "cell_type": "code",
   "execution_count": 15,
   "metadata": {},
   "outputs": [
    {
     "name": "stdout",
     "output_type": "stream",
     "text": [
      "Our totally unbiased computer has selected Limerick as the best city in Ireland.\n"
     ]
    }
   ],
   "source": [
    "# What is the best city in Ireland? \n",
    "print(\"Our totally unbiased computer has selected \" + np.random.choice(cities, p=[0.95, 0.01, 0.01, 0.01, 0.01, 0.01])\n",
    "          + \" as the best city in Ireland.\")"
   ]
  },
  {
   "cell_type": "markdown",
   "metadata": {},
   "source": [
    "#### bytes"
   ]
  },
  {
   "cell_type": "markdown",
   "metadata": {},
   "source": [
    "This function generates a string of bytes of a specified length."
   ]
  },
  {
   "cell_type": "code",
   "execution_count": 16,
   "metadata": {},
   "outputs": [
    {
     "data": {
      "text/plain": [
       "b'd\\xf9\\xa8D\\xfd\\x15J\\xaf\\xdaShS\\t!\\xc6\\xe9c\\x13:v'"
      ]
     },
     "execution_count": 16,
     "metadata": {},
     "output_type": "execute_result"
    }
   ],
   "source": [
    "np.random.bytes(20)"
   ]
  },
  {
   "cell_type": "markdown",
   "metadata": {},
   "source": [
    "Bar some creepy ouija board scenario, the bytes returned will be nonsense, but we can attempt to decode and view the characters using the \"chardet\" package and the \"decode\" method. However, sometimes the bytes won't have encoding and we won't be able to translate."
   ]
  },
  {
   "cell_type": "code",
   "execution_count": 17,
   "metadata": {},
   "outputs": [
    {
     "name": "stdout",
     "output_type": "stream",
     "text": [
      "Your string of bytes: b'\\x08-\\x85\\xa4\\xbe?f\\xb2ta'\n",
      " \n",
      "Encoding type detected = Windows-1252\n",
      " \n",
      "Decoded bytes = \b-…¤¾?f²ta\n"
     ]
    }
   ],
   "source": [
    "\"\"\"Detect what the encoding used is. https://stackoverflow.com/questions/15918314/how-to-detect-string-byte-encoding\"\"\"\n",
    "import chardet\n",
    "\n",
    "bytes_str = np.random.bytes(10)\n",
    "print(\"Your string of bytes:\", bytes_str)\n",
    "print(\" \")\n",
    "detect_encoding = chardet.detect(bytes_str)[\"encoding\"]\n",
    "if detect_encoding is None:\n",
    "    print(\"Bytes not encoded - can't translate\")\n",
    "else:\n",
    "    print(\"Encoding type detected =\", detect_encoding)\n",
    "    print(\" \")\n",
    "    print(\"Decoded bytes =\", bytes_str.decode(detect_encoding))\n"
   ]
  },
  {
   "cell_type": "code",
   "execution_count": 18,
   "metadata": {},
   "outputs": [
    {
     "data": {
      "text/plain": [
       "85"
      ]
     },
     "execution_count": 18,
     "metadata": {},
     "output_type": "execute_result"
    }
   ],
   "source": [
    "# bytes to integer\n",
    "bytes2 = np.random.bytes(1)\n",
    "int.from_bytes(bytes2, byteorder=\"big\")"
   ]
  },
  {
   "cell_type": "markdown",
   "metadata": {},
   "source": [
    "### Permutations"
   ]
  },
  {
   "cell_type": "markdown",
   "metadata": {},
   "source": [
    "#### Shuffle"
   ]
  },
  {
   "cell_type": "markdown",
   "metadata": {},
   "source": [
    "The shuffle function reorganises an array of data. See example below."
   ]
  },
  {
   "cell_type": "code",
   "execution_count": 19,
   "metadata": {},
   "outputs": [
    {
     "name": "stdout",
     "output_type": "stream",
     "text": [
      "[95 61 65 57 96 90 87 53 13 34]\n",
      "[34 13 65 95 96 90 87 57 61 53]\n"
     ]
    }
   ],
   "source": [
    "shuff_ints = np.random.randint(100, size=10)\n",
    "print(shuff_ints)\n",
    "np.random.shuffle(shuff_ints)\n",
    "print(shuff_ints)"
   ]
  },
  {
   "cell_type": "markdown",
   "metadata": {},
   "source": [
    "Most people would be familiar with the concept of shuffling from playing cards. It ensures fairnees by breaking up the order of cards from their suits and values / heirarchy. \n",
    "\n",
    "An online blackjack game would be very easy to predict if we new the order the cards were going to be dealt from the deck. "
   ]
  },
  {
   "cell_type": "code",
   "execution_count": 20,
   "metadata": {
    "scrolled": true
   },
   "outputs": [
    {
     "name": "stdout",
     "output_type": "stream",
     "text": [
      "['2 of Hearts', '3 of Hearts', '4 of Hearts', '5 of Hearts', '6 of Hearts', '7 of Hearts', '8 of Hearts', '9 of Hearts', '10 of Hearts', 'Jack of Hearts', 'Queen of Hearts', 'King of Hearts', 'Ace of Hearts', '2 of Clubs', '3 of Clubs', '4 of Clubs', '5 of Clubs', '6 of Clubs', '7 of Clubs', '8 of Clubs', '9 of Clubs', '10 of Clubs', 'Jack of Clubs', 'Queen of Clubs', 'King of Clubs', 'Ace of Clubs', '2 of Diamonds', '3 of Diamonds', '4 of Diamonds', '5 of Diamonds', '6 of Diamonds', '7 of Diamonds', '8 of Diamonds', '9 of Diamonds', '10 of Diamonds', 'Jack of Diamonds', 'Queen of Diamonds', 'King of Diamonds', 'Ace of Diamonds', '2 of Spades', '3 of Spades', '4 of Spades', '5 of Spades', '6 of Spades', '7 of Spades', '8 of Spades', '9 of Spades', '10 of Spades', 'Jack of Spades', 'Queen of Spades', 'King of Spades', 'Ace of Spades']\n"
     ]
    }
   ],
   "source": [
    "# create a deck of cards - https://stackoverflow.com/questions/41970795/what-is-the-best-way-to-create-a-deck-of-cards\n",
    "values = ['2','3','4','5','6','7','8','9','10','Jack','Queen','King','Ace']\n",
    "suites = ['Hearts', 'Clubs', 'Diamonds', 'Spades']\n",
    "deck = [v + ' of ' + s for s in suites for v in values]\n",
    "print(deck)"
   ]
  },
  {
   "cell_type": "code",
   "execution_count": 21,
   "metadata": {},
   "outputs": [
    {
     "name": "stdout",
     "output_type": "stream",
     "text": [
      "['King of Clubs', '9 of Clubs', 'Ace of Hearts', 'King of Spades', '5 of Diamonds', 'Queen of Spades', '8 of Clubs', 'Queen of Hearts', '3 of Hearts', '2 of Spades', 'Ace of Clubs', 'Queen of Diamonds', '5 of Clubs', '5 of Hearts', '5 of Spades', '8 of Hearts', '7 of Spades', 'Ace of Spades', 'Jack of Clubs', 'Jack of Hearts', '6 of Hearts', '6 of Diamonds', '4 of Spades', '4 of Hearts', '10 of Clubs', 'Queen of Clubs', 'Jack of Diamonds', '8 of Spades', '10 of Spades', 'King of Hearts', '6 of Spades', '7 of Clubs', '8 of Diamonds', '10 of Diamonds', 'Jack of Spades', '4 of Clubs', '4 of Diamonds', '3 of Spades', '3 of Diamonds', '7 of Hearts', '2 of Hearts', '7 of Diamonds', '9 of Hearts', '3 of Clubs', '6 of Clubs', '10 of Hearts', 'Ace of Diamonds', '9 of Diamonds', '2 of Clubs', '9 of Spades', 'King of Diamonds', '2 of Diamonds']\n"
     ]
    }
   ],
   "source": [
    "#shuffle our deck\n",
    "np.random.shuffle(deck)\n",
    "print(deck)"
   ]
  },
  {
   "cell_type": "markdown",
   "metadata": {},
   "source": [
    "One of the most important uses for shuffling in data science is for training in machine learning. If data is sorted by class / target ordered in groups with simlar characteristics (like a deck of cards), suffling data ensures that the subset of the data you us for training is representative of the entrie dataset and does not build biases into the model.\n",
    "\n",
    "A good example of this is our old friend Fisher's Iris dataset. The data comes sorted into the three classes of Iris. If we were to take the first 50 values as our training set for a K Nearest Neighbours algorithm, it would not be able to make accurate predictions for two of the spicies of Iris in the dataset. See example below.\n"
   ]
  },
  {
   "cell_type": "code",
   "execution_count": 22,
   "metadata": {},
   "outputs": [],
   "source": [
    "import sklearn as skl\n",
    "url = 'https://raw.githubusercontent.com/ConorHogan/Programming_Scripting_Projects/master/Iris_Data.csv'\n",
    "irisdf = pd.read_csv(url, header=None) \n",
    "irisdf.columns = [\"S_Length\",\"S_Width\",\"P_Length\",\"P_Width\",\"Species\"]\n",
    "irisdf.columns.name = \"Attributes\"\n",
    "irisdf.set_index(\"Species\", inplace=True)\n",
    "\n"
   ]
  },
  {
   "cell_type": "markdown",
   "metadata": {},
   "source": [
    "#### Permutation"
   ]
  },
  {
   "cell_type": "markdown",
   "metadata": {},
   "source": [
    "The Permutation function randomly permutes a sequence of integers or elements from an array."
   ]
  },
  {
   "cell_type": "code",
   "execution_count": 23,
   "metadata": {},
   "outputs": [
    {
     "data": {
      "text/plain": [
       "array([42, 41,  6, 79, 64, 81, 19, 69, 14, 39, 30,  0, 71, 97, 31, 35, 52,\n",
       "       50, 76, 82, 72, 26,  7, 34, 96, 88, 40, 91,  3, 11, 75, 43, 36, 62,\n",
       "       53, 98, 48, 84,  4, 18, 24, 86, 70, 93, 28, 20, 13, 65,  8, 99, 94,\n",
       "       60, 78, 58, 45, 77, 21, 38, 33, 27, 57, 32, 92, 56, 51, 80,  5, 44,\n",
       "       95, 90, 61, 55, 29, 46, 63, 54, 89, 12, 15, 83,  2, 85, 66, 73,  9,\n",
       "       87,  1, 22, 67, 25, 17, 59, 23, 47, 37, 10, 74, 68, 16, 49])"
      ]
     },
     "execution_count": 23,
     "metadata": {},
     "output_type": "execute_result"
    }
   ],
   "source": [
    "# Permute numbers from 0 to 100.\n",
    "np.random.permutation(100)"
   ]
  },
  {
   "cell_type": "code",
   "execution_count": 24,
   "metadata": {},
   "outputs": [
    {
     "data": {
      "text/plain": [
       "array(['Galway', 'Limerick', 'Cork', 'Dublin', 'Waterford', 'Kilkenny'],\n",
       "      dtype='<U9')"
      ]
     },
     "execution_count": 24,
     "metadata": {},
     "output_type": "execute_result"
    }
   ],
   "source": [
    "# Permute elements from an array\n",
    "np.random.permutation(cities)"
   ]
  },
  {
   "cell_type": "markdown",
   "metadata": {},
   "source": [
    "Permuting in a multi-dimentional only shuffles data along it's first index. "
   ]
  },
  {
   "cell_type": "code",
   "execution_count": 25,
   "metadata": {},
   "outputs": [
    {
     "name": "stdout",
     "output_type": "stream",
     "text": [
      "[['Iris-setosa' 5.1 3.5 1.4 0.2]\n",
      " ['Iris-setosa' 4.9 3.0 1.4 0.2]\n",
      " ['Iris-setosa' 4.7 3.2 1.3 0.2]\n",
      " ['Iris-setosa' 4.6 3.1 1.5 0.2]\n",
      " ['Iris-setosa' 5.0 3.6 1.4 0.2]\n",
      " ['Iris-setosa' 5.4 3.9 1.7 0.4]\n",
      " ['Iris-setosa' 4.6 3.4 1.4 0.3]\n",
      " ['Iris-setosa' 5.0 3.4 1.5 0.2]\n",
      " ['Iris-setosa' 4.4 2.9 1.4 0.2]\n",
      " ['Iris-setosa' 4.9 3.1 1.5 0.1]\n",
      " ['Iris-setosa' 5.4 3.7 1.5 0.2]\n",
      " ['Iris-setosa' 4.8 3.4 1.6 0.2]\n",
      " ['Iris-setosa' 4.8 3.0 1.4 0.1]\n",
      " ['Iris-setosa' 4.3 3.0 1.1 0.1]\n",
      " ['Iris-setosa' 5.8 4.0 1.2 0.2]\n",
      " ['Iris-setosa' 5.7 4.4 1.5 0.4]\n",
      " ['Iris-setosa' 5.4 3.9 1.3 0.4]\n",
      " ['Iris-setosa' 5.1 3.5 1.4 0.3]\n",
      " ['Iris-setosa' 5.7 3.8 1.7 0.3]\n",
      " ['Iris-setosa' 5.1 3.8 1.5 0.3]\n",
      " ['Iris-setosa' 5.4 3.4 1.7 0.2]\n",
      " ['Iris-setosa' 5.1 3.7 1.5 0.4]\n",
      " ['Iris-setosa' 4.6 3.6 1.0 0.2]\n",
      " ['Iris-setosa' 5.1 3.3 1.7 0.5]\n",
      " ['Iris-setosa' 4.8 3.4 1.9 0.2]\n",
      " ['Iris-setosa' 5.0 3.0 1.6 0.2]\n",
      " ['Iris-setosa' 5.0 3.4 1.6 0.4]\n",
      " ['Iris-setosa' 5.2 3.5 1.5 0.2]\n",
      " ['Iris-setosa' 5.2 3.4 1.4 0.2]\n",
      " ['Iris-setosa' 4.7 3.2 1.6 0.2]\n",
      " ['Iris-setosa' 4.8 3.1 1.6 0.2]\n",
      " ['Iris-setosa' 5.4 3.4 1.5 0.4]\n",
      " ['Iris-setosa' 5.2 4.1 1.5 0.1]\n",
      " ['Iris-setosa' 5.5 4.2 1.4 0.2]\n",
      " ['Iris-setosa' 4.9 3.1 1.5 0.2]\n",
      " ['Iris-setosa' 5.0 3.2 1.2 0.2]\n",
      " ['Iris-setosa' 5.5 3.5 1.3 0.2]\n",
      " ['Iris-setosa' 4.9 3.6 1.4 0.1]\n",
      " ['Iris-setosa' 4.4 3.0 1.3 0.2]\n",
      " ['Iris-setosa' 5.1 3.4 1.5 0.2]\n",
      " ['Iris-setosa' 5.0 3.5 1.3 0.3]\n",
      " ['Iris-setosa' 4.5 2.3 1.3 0.3]\n",
      " ['Iris-setosa' 4.4 3.2 1.3 0.2]\n",
      " ['Iris-setosa' 5.0 3.5 1.6 0.6]\n",
      " ['Iris-setosa' 5.1 3.8 1.9 0.4]\n",
      " ['Iris-setosa' 4.8 3.0 1.4 0.3]\n",
      " ['Iris-setosa' 5.1 3.8 1.6 0.2]\n",
      " ['Iris-setosa' 4.6 3.2 1.4 0.2]\n",
      " ['Iris-setosa' 5.3 3.7 1.5 0.2]\n",
      " ['Iris-setosa' 5.0 3.3 1.4 0.2]\n",
      " ['Iris-versicolor' 7.0 3.2 4.7 1.4]\n",
      " ['Iris-versicolor' 6.4 3.2 4.5 1.5]\n",
      " ['Iris-versicolor' 6.9 3.1 4.9 1.5]\n",
      " ['Iris-versicolor' 5.5 2.3 4.0 1.3]\n",
      " ['Iris-versicolor' 6.5 2.8 4.6 1.5]\n",
      " ['Iris-versicolor' 5.7 2.8 4.5 1.3]\n",
      " ['Iris-versicolor' 6.3 3.3 4.7 1.6]\n",
      " ['Iris-versicolor' 4.9 2.4 3.3 1.0]\n",
      " ['Iris-versicolor' 6.6 2.9 4.6 1.3]\n",
      " ['Iris-versicolor' 5.2 2.7 3.9 1.4]\n",
      " ['Iris-versicolor' 5.0 2.0 3.5 1.0]\n",
      " ['Iris-versicolor' 5.9 3.0 4.2 1.5]\n",
      " ['Iris-versicolor' 6.0 2.2 4.0 1.0]\n",
      " ['Iris-versicolor' 6.1 2.9 4.7 1.4]\n",
      " ['Iris-versicolor' 5.6 2.9 3.6 1.3]\n",
      " ['Iris-versicolor' 6.7 3.1 4.4 1.4]\n",
      " ['Iris-versicolor' 5.6 3.0 4.5 1.5]\n",
      " ['Iris-versicolor' 5.8 2.7 4.1 1.0]\n",
      " ['Iris-versicolor' 6.2 2.2 4.5 1.5]\n",
      " ['Iris-versicolor' 5.6 2.5 3.9 1.1]\n",
      " ['Iris-versicolor' 5.9 3.2 4.8 1.8]\n",
      " ['Iris-versicolor' 6.1 2.8 4.0 1.3]\n",
      " ['Iris-versicolor' 6.3 2.5 4.9 1.5]\n",
      " ['Iris-versicolor' 6.1 2.8 4.7 1.2]\n",
      " ['Iris-versicolor' 6.4 2.9 4.3 1.3]\n",
      " ['Iris-versicolor' 6.6 3.0 4.4 1.4]\n",
      " ['Iris-versicolor' 6.8 2.8 4.8 1.4]\n",
      " ['Iris-versicolor' 6.7 3.0 5.0 1.7]\n",
      " ['Iris-versicolor' 6.0 2.9 4.5 1.5]\n",
      " ['Iris-versicolor' 5.7 2.6 3.5 1.0]\n",
      " ['Iris-versicolor' 5.5 2.4 3.8 1.1]\n",
      " ['Iris-versicolor' 5.5 2.4 3.7 1.0]\n",
      " ['Iris-versicolor' 5.8 2.7 3.9 1.2]\n",
      " ['Iris-versicolor' 6.0 2.7 5.1 1.6]\n",
      " ['Iris-versicolor' 5.4 3.0 4.5 1.5]\n",
      " ['Iris-versicolor' 6.0 3.4 4.5 1.6]\n",
      " ['Iris-versicolor' 6.7 3.1 4.7 1.5]\n",
      " ['Iris-versicolor' 6.3 2.3 4.4 1.3]\n",
      " ['Iris-versicolor' 5.6 3.0 4.1 1.3]\n",
      " ['Iris-versicolor' 5.5 2.5 4.0 1.3]\n",
      " ['Iris-versicolor' 5.5 2.6 4.4 1.2]\n",
      " ['Iris-versicolor' 6.1 3.0 4.6 1.4]\n",
      " ['Iris-versicolor' 5.8 2.6 4.0 1.2]\n",
      " ['Iris-versicolor' 5.0 2.3 3.3 1.0]\n",
      " ['Iris-versicolor' 5.6 2.7 4.2 1.3]\n",
      " ['Iris-versicolor' 5.7 3.0 4.2 1.2]\n",
      " ['Iris-versicolor' 5.7 2.9 4.2 1.3]\n",
      " ['Iris-versicolor' 6.2 2.9 4.3 1.3]\n",
      " ['Iris-versicolor' 5.1 2.5 3.0 1.1]\n",
      " ['Iris-versicolor' 5.7 2.8 4.1 1.3]\n",
      " ['Iris-virginica' 6.3 3.3 6.0 2.5]\n",
      " ['Iris-virginica' 5.8 2.7 5.1 1.9]\n",
      " ['Iris-virginica' 7.1 3.0 5.9 2.1]\n",
      " ['Iris-virginica' 6.3 2.9 5.6 1.8]\n",
      " ['Iris-virginica' 6.5 3.0 5.8 2.2]\n",
      " ['Iris-virginica' 7.6 3.0 6.6 2.1]\n",
      " ['Iris-virginica' 4.9 2.5 4.5 1.7]\n",
      " ['Iris-virginica' 7.3 2.9 6.3 1.8]\n",
      " ['Iris-virginica' 6.7 2.5 5.8 1.8]\n",
      " ['Iris-virginica' 7.2 3.6 6.1 2.5]\n",
      " ['Iris-virginica' 6.5 3.2 5.1 2.0]\n",
      " ['Iris-virginica' 6.4 2.7 5.3 1.9]\n",
      " ['Iris-virginica' 6.8 3.0 5.5 2.1]\n",
      " ['Iris-virginica' 5.7 2.5 5.0 2.0]\n",
      " ['Iris-virginica' 5.8 2.8 5.1 2.4]\n",
      " ['Iris-virginica' 6.4 3.2 5.3 2.3]\n",
      " ['Iris-virginica' 6.5 3.0 5.5 1.8]\n",
      " ['Iris-virginica' 7.7 3.8 6.7 2.2]\n",
      " ['Iris-virginica' 7.7 2.6 6.9 2.3]\n",
      " ['Iris-virginica' 6.0 2.2 5.0 1.5]\n",
      " ['Iris-virginica' 6.9 3.2 5.7 2.3]\n",
      " ['Iris-virginica' 5.6 2.8 4.9 2.0]\n",
      " ['Iris-virginica' 7.7 2.8 6.7 2.0]\n",
      " ['Iris-virginica' 6.3 2.7 4.9 1.8]\n",
      " ['Iris-virginica' 6.7 3.3 5.7 2.1]\n",
      " ['Iris-virginica' 7.2 3.2 6.0 1.8]\n",
      " ['Iris-virginica' 6.2 2.8 4.8 1.8]\n",
      " ['Iris-virginica' 6.1 3.0 4.9 1.8]\n",
      " ['Iris-virginica' 6.4 2.8 5.6 2.1]\n",
      " ['Iris-virginica' 7.2 3.0 5.8 1.6]\n",
      " ['Iris-virginica' 7.4 2.8 6.1 1.9]\n",
      " ['Iris-virginica' 7.9 3.8 6.4 2.0]\n",
      " ['Iris-virginica' 6.4 2.8 5.6 2.2]\n",
      " ['Iris-virginica' 6.3 2.8 5.1 1.5]\n",
      " ['Iris-virginica' 6.1 2.6 5.6 1.4]\n",
      " ['Iris-virginica' 7.7 3.0 6.1 2.3]\n",
      " ['Iris-virginica' 6.3 3.4 5.6 2.4]\n",
      " ['Iris-virginica' 6.4 3.1 5.5 1.8]\n",
      " ['Iris-virginica' 6.0 3.0 4.8 1.8]\n",
      " ['Iris-virginica' 6.9 3.1 5.4 2.1]\n",
      " ['Iris-virginica' 6.7 3.1 5.6 2.4]\n",
      " ['Iris-virginica' 6.9 3.1 5.1 2.3]\n",
      " ['Iris-virginica' 5.8 2.7 5.1 1.9]\n",
      " ['Iris-virginica' 6.8 3.2 5.9 2.3]\n",
      " ['Iris-virginica' 6.7 3.3 5.7 2.5]\n",
      " ['Iris-virginica' 6.7 3.0 5.2 2.3]\n",
      " ['Iris-virginica' 6.3 2.5 5.0 1.9]\n",
      " ['Iris-virginica' 6.5 3.0 5.2 2.0]\n",
      " ['Iris-virginica' 6.2 3.4 5.4 2.3]\n",
      " ['Iris-virginica' 5.9 3.0 5.1 1.8]]\n"
     ]
    }
   ],
   "source": [
    "#Using the Iris dataset\n",
    "irisarray = irisdf.reset_index().values # convert pandas dataframe to array.\n",
    "print(irisarray)"
   ]
  },
  {
   "cell_type": "code",
   "execution_count": 26,
   "metadata": {},
   "outputs": [
    {
     "data": {
      "text/plain": [
       "array([['Iris-setosa', 4.7, 3.2, 1.3, 0.2],\n",
       "       ['Iris-virginica', 6.3, 3.3, 6.0, 2.5],\n",
       "       ['Iris-versicolor', 6.9, 3.1, 4.9, 1.5],\n",
       "       ['Iris-virginica', 6.7, 3.3, 5.7, 2.5],\n",
       "       ['Iris-setosa', 4.6, 3.4, 1.4, 0.3],\n",
       "       ['Iris-versicolor', 5.5, 2.5, 4.0, 1.3],\n",
       "       ['Iris-virginica', 6.5, 3.0, 5.2, 2.0],\n",
       "       ['Iris-versicolor', 4.9, 2.4, 3.3, 1.0],\n",
       "       ['Iris-virginica', 6.9, 3.2, 5.7, 2.3],\n",
       "       ['Iris-versicolor', 5.5, 2.6, 4.4, 1.2],\n",
       "       ['Iris-virginica', 6.2, 2.8, 4.8, 1.8],\n",
       "       ['Iris-setosa', 4.6, 3.1, 1.5, 0.2],\n",
       "       ['Iris-virginica', 6.4, 3.2, 5.3, 2.3],\n",
       "       ['Iris-virginica', 6.0, 3.0, 4.8, 1.8],\n",
       "       ['Iris-setosa', 4.6, 3.2, 1.4, 0.2],\n",
       "       ['Iris-virginica', 6.4, 3.1, 5.5, 1.8],\n",
       "       ['Iris-versicolor', 5.7, 3.0, 4.2, 1.2],\n",
       "       ['Iris-virginica', 5.7, 2.5, 5.0, 2.0],\n",
       "       ['Iris-setosa', 4.9, 3.1, 1.5, 0.2],\n",
       "       ['Iris-virginica', 7.2, 3.6, 6.1, 2.5],\n",
       "       ['Iris-versicolor', 5.6, 2.9, 3.6, 1.3],\n",
       "       ['Iris-virginica', 6.1, 3.0, 4.9, 1.8],\n",
       "       ['Iris-virginica', 6.3, 2.5, 5.0, 1.9],\n",
       "       ['Iris-versicolor', 5.8, 2.6, 4.0, 1.2],\n",
       "       ['Iris-virginica', 7.1, 3.0, 5.9, 2.1],\n",
       "       ['Iris-virginica', 6.3, 2.7, 4.9, 1.8],\n",
       "       ['Iris-versicolor', 5.7, 2.8, 4.1, 1.3],\n",
       "       ['Iris-virginica', 7.7, 3.8, 6.7, 2.2],\n",
       "       ['Iris-virginica', 6.5, 3.0, 5.5, 1.8],\n",
       "       ['Iris-virginica', 7.6, 3.0, 6.6, 2.1],\n",
       "       ['Iris-versicolor', 6.1, 2.9, 4.7, 1.4],\n",
       "       ['Iris-virginica', 6.4, 2.7, 5.3, 1.9],\n",
       "       ['Iris-versicolor', 6.1, 2.8, 4.7, 1.2],\n",
       "       ['Iris-versicolor', 6.0, 3.4, 4.5, 1.6],\n",
       "       ['Iris-virginica', 5.6, 2.8, 4.9, 2.0],\n",
       "       ['Iris-setosa', 5.4, 3.7, 1.5, 0.2],\n",
       "       ['Iris-versicolor', 6.7, 3.0, 5.0, 1.7],\n",
       "       ['Iris-virginica', 6.7, 3.1, 5.6, 2.4],\n",
       "       ['Iris-versicolor', 6.1, 3.0, 4.6, 1.4],\n",
       "       ['Iris-versicolor', 6.2, 2.9, 4.3, 1.3],\n",
       "       ['Iris-virginica', 5.8, 2.7, 5.1, 1.9],\n",
       "       ['Iris-versicolor', 5.7, 2.6, 3.5, 1.0],\n",
       "       ['Iris-versicolor', 6.8, 2.8, 4.8, 1.4],\n",
       "       ['Iris-versicolor', 6.5, 2.8, 4.6, 1.5],\n",
       "       ['Iris-virginica', 7.7, 3.0, 6.1, 2.3],\n",
       "       ['Iris-versicolor', 6.4, 3.2, 4.5, 1.5],\n",
       "       ['Iris-setosa', 5.0, 3.0, 1.6, 0.2],\n",
       "       ['Iris-versicolor', 6.7, 3.1, 4.7, 1.5],\n",
       "       ['Iris-versicolor', 5.1, 2.5, 3.0, 1.1],\n",
       "       ['Iris-setosa', 5.5, 4.2, 1.4, 0.2],\n",
       "       ['Iris-virginica', 6.3, 2.8, 5.1, 1.5],\n",
       "       ['Iris-setosa', 4.8, 3.0, 1.4, 0.1],\n",
       "       ['Iris-versicolor', 6.0, 2.7, 5.1, 1.6],\n",
       "       ['Iris-versicolor', 6.6, 3.0, 4.4, 1.4],\n",
       "       ['Iris-virginica', 6.4, 2.8, 5.6, 2.2],\n",
       "       ['Iris-versicolor', 5.0, 2.3, 3.3, 1.0],\n",
       "       ['Iris-virginica', 7.4, 2.8, 6.1, 1.9],\n",
       "       ['Iris-virginica', 7.9, 3.8, 6.4, 2.0],\n",
       "       ['Iris-setosa', 5.0, 3.5, 1.6, 0.6],\n",
       "       ['Iris-setosa', 5.1, 3.5, 1.4, 0.2],\n",
       "       ['Iris-setosa', 5.1, 3.3, 1.7, 0.5],\n",
       "       ['Iris-setosa', 5.1, 3.8, 1.6, 0.2],\n",
       "       ['Iris-versicolor', 5.5, 2.4, 3.8, 1.1],\n",
       "       ['Iris-versicolor', 6.0, 2.2, 4.0, 1.0],\n",
       "       ['Iris-setosa', 4.7, 3.2, 1.6, 0.2],\n",
       "       ['Iris-versicolor', 5.6, 2.7, 4.2, 1.3],\n",
       "       ['Iris-setosa', 5.2, 3.4, 1.4, 0.2],\n",
       "       ['Iris-versicolor', 6.0, 2.9, 4.5, 1.5],\n",
       "       ['Iris-versicolor', 5.9, 3.2, 4.8, 1.8],\n",
       "       ['Iris-virginica', 4.9, 2.5, 4.5, 1.7],\n",
       "       ['Iris-setosa', 4.8, 3.0, 1.4, 0.3],\n",
       "       ['Iris-virginica', 5.9, 3.0, 5.1, 1.8],\n",
       "       ['Iris-setosa', 4.5, 2.3, 1.3, 0.3],\n",
       "       ['Iris-versicolor', 6.1, 2.8, 4.0, 1.3],\n",
       "       ['Iris-versicolor', 5.8, 2.7, 4.1, 1.0],\n",
       "       ['Iris-setosa', 5.2, 3.5, 1.5, 0.2],\n",
       "       ['Iris-versicolor', 5.7, 2.8, 4.5, 1.3],\n",
       "       ['Iris-versicolor', 5.6, 2.5, 3.9, 1.1],\n",
       "       ['Iris-setosa', 5.7, 4.4, 1.5, 0.4],\n",
       "       ['Iris-virginica', 6.0, 2.2, 5.0, 1.5],\n",
       "       ['Iris-virginica', 6.2, 3.4, 5.4, 2.3],\n",
       "       ['Iris-virginica', 5.8, 2.8, 5.1, 2.4],\n",
       "       ['Iris-setosa', 5.1, 3.4, 1.5, 0.2],\n",
       "       ['Iris-versicolor', 5.6, 3.0, 4.1, 1.3],\n",
       "       ['Iris-versicolor', 6.3, 2.3, 4.4, 1.3],\n",
       "       ['Iris-versicolor', 5.4, 3.0, 4.5, 1.5],\n",
       "       ['Iris-setosa', 4.4, 2.9, 1.4, 0.2],\n",
       "       ['Iris-versicolor', 5.2, 2.7, 3.9, 1.4],\n",
       "       ['Iris-versicolor', 6.3, 3.3, 4.7, 1.6],\n",
       "       ['Iris-virginica', 6.4, 2.8, 5.6, 2.1],\n",
       "       ['Iris-virginica', 6.5, 3.2, 5.1, 2.0],\n",
       "       ['Iris-setosa', 4.6, 3.6, 1.0, 0.2],\n",
       "       ['Iris-setosa', 4.9, 3.0, 1.4, 0.2],\n",
       "       ['Iris-setosa', 5.8, 4.0, 1.2, 0.2],\n",
       "       ['Iris-setosa', 4.4, 3.2, 1.3, 0.2],\n",
       "       ['Iris-setosa', 5.2, 4.1, 1.5, 0.1],\n",
       "       ['Iris-versicolor', 5.7, 2.9, 4.2, 1.3],\n",
       "       ['Iris-versicolor', 7.0, 3.2, 4.7, 1.4],\n",
       "       ['Iris-virginica', 6.3, 2.9, 5.6, 1.8],\n",
       "       ['Iris-setosa', 5.4, 3.9, 1.7, 0.4],\n",
       "       ['Iris-versicolor', 6.3, 2.5, 4.9, 1.5],\n",
       "       ['Iris-versicolor', 5.5, 2.3, 4.0, 1.3],\n",
       "       ['Iris-setosa', 4.8, 3.4, 1.6, 0.2],\n",
       "       ['Iris-setosa', 5.0, 3.3, 1.4, 0.2],\n",
       "       ['Iris-setosa', 5.1, 3.7, 1.5, 0.4],\n",
       "       ['Iris-setosa', 5.0, 3.6, 1.4, 0.2],\n",
       "       ['Iris-setosa', 4.9, 3.6, 1.4, 0.1],\n",
       "       ['Iris-setosa', 5.1, 3.8, 1.5, 0.3],\n",
       "       ['Iris-setosa', 5.4, 3.9, 1.3, 0.4],\n",
       "       ['Iris-setosa', 5.0, 3.5, 1.3, 0.3],\n",
       "       ['Iris-versicolor', 6.6, 2.9, 4.6, 1.3],\n",
       "       ['Iris-versicolor', 5.6, 3.0, 4.5, 1.5],\n",
       "       ['Iris-versicolor', 5.5, 2.4, 3.7, 1.0],\n",
       "       ['Iris-virginica', 6.1, 2.6, 5.6, 1.4],\n",
       "       ['Iris-virginica', 6.8, 3.0, 5.5, 2.1],\n",
       "       ['Iris-virginica', 7.7, 2.8, 6.7, 2.0],\n",
       "       ['Iris-virginica', 6.3, 3.4, 5.6, 2.4],\n",
       "       ['Iris-versicolor', 5.9, 3.0, 4.2, 1.5],\n",
       "       ['Iris-versicolor', 5.0, 2.0, 3.5, 1.0],\n",
       "       ['Iris-versicolor', 6.7, 3.1, 4.4, 1.4],\n",
       "       ['Iris-virginica', 6.7, 2.5, 5.8, 1.8],\n",
       "       ['Iris-versicolor', 6.4, 2.9, 4.3, 1.3],\n",
       "       ['Iris-setosa', 4.4, 3.0, 1.3, 0.2],\n",
       "       ['Iris-virginica', 6.9, 3.1, 5.4, 2.1],\n",
       "       ['Iris-virginica', 6.7, 3.3, 5.7, 2.1],\n",
       "       ['Iris-setosa', 4.3, 3.0, 1.1, 0.1],\n",
       "       ['Iris-setosa', 5.3, 3.7, 1.5, 0.2],\n",
       "       ['Iris-virginica', 7.3, 2.9, 6.3, 1.8],\n",
       "       ['Iris-setosa', 5.7, 3.8, 1.7, 0.3],\n",
       "       ['Iris-setosa', 4.8, 3.4, 1.9, 0.2],\n",
       "       ['Iris-setosa', 4.9, 3.1, 1.5, 0.1],\n",
       "       ['Iris-virginica', 5.8, 2.7, 5.1, 1.9],\n",
       "       ['Iris-setosa', 5.1, 3.8, 1.9, 0.4],\n",
       "       ['Iris-virginica', 7.7, 2.6, 6.9, 2.3],\n",
       "       ['Iris-virginica', 7.2, 3.2, 6.0, 1.8],\n",
       "       ['Iris-virginica', 7.2, 3.0, 5.8, 1.6],\n",
       "       ['Iris-setosa', 5.4, 3.4, 1.5, 0.4],\n",
       "       ['Iris-setosa', 5.0, 3.2, 1.2, 0.2],\n",
       "       ['Iris-virginica', 6.7, 3.0, 5.2, 2.3],\n",
       "       ['Iris-setosa', 5.5, 3.5, 1.3, 0.2],\n",
       "       ['Iris-setosa', 5.0, 3.4, 1.5, 0.2],\n",
       "       ['Iris-setosa', 5.0, 3.4, 1.6, 0.4],\n",
       "       ['Iris-versicolor', 6.2, 2.2, 4.5, 1.5],\n",
       "       ['Iris-setosa', 4.8, 3.1, 1.6, 0.2],\n",
       "       ['Iris-virginica', 6.5, 3.0, 5.8, 2.2],\n",
       "       ['Iris-virginica', 6.9, 3.1, 5.1, 2.3],\n",
       "       ['Iris-setosa', 5.1, 3.5, 1.4, 0.3],\n",
       "       ['Iris-versicolor', 5.8, 2.7, 3.9, 1.2],\n",
       "       ['Iris-virginica', 6.8, 3.2, 5.9, 2.3],\n",
       "       ['Iris-setosa', 5.4, 3.4, 1.7, 0.2]], dtype=object)"
      ]
     },
     "execution_count": 26,
     "metadata": {},
     "output_type": "execute_result"
    }
   ],
   "source": [
    "#Suffle\n",
    "np.random.permutation(irisarray)"
   ]
  },
  {
   "cell_type": "markdown",
   "metadata": {},
   "source": [
    "The main difference between using the Shuffle and Permutation functions on an array are that Shuffle changes data in the array it is used on whereas Permutation will create a shuffled copy of the array."
   ]
  },
  {
   "cell_type": "code",
   "execution_count": 27,
   "metadata": {},
   "outputs": [
    {
     "name": "stdout",
     "output_type": "stream",
     "text": [
      "None\n"
     ]
    }
   ],
   "source": [
    "# Printing prints irisarray shows it hasn't been permanently modified\n",
    "#print(irisarray)\n",
    "shufflediris = np.random.shuffle(irisarray)\n",
    "print(shufflediris)"
   ]
  },
  {
   "cell_type": "markdown",
   "metadata": {},
   "source": [
    "## Distribution Functions"
   ]
  },
  {
   "cell_type": "markdown",
   "metadata": {},
   "source": [
    "Introduction... What is a distribution..."
   ]
  },
  {
   "cell_type": "markdown",
   "metadata": {},
   "source": [
    "Beta, bernoulli, Binomial, Poisson, Exponential"
   ]
  },
  {
   "cell_type": "markdown",
   "metadata": {},
   "source": [
    "### Beta, Gamma"
   ]
  },
  {
   "cell_type": "markdown",
   "metadata": {},
   "source": [
    "Beta - chance someone will call based on prior information. Distribution below shows chance someone will call over the course of a day checking each second."
   ]
  },
  {
   "cell_type": "code",
   "execution_count": 31,
   "metadata": {},
   "outputs": [
    {
     "data": {
      "text/plain": [
       "array([0.53081928, 0.64880356, 0.55987129, ..., 0.59639241, 0.64254749,\n",
       "       0.57176082])"
      ]
     },
     "execution_count": 31,
     "metadata": {},
     "output_type": "execute_result"
    }
   ],
   "source": [
    "beta_data = np.random.beta(60, 40, size=86400)\n",
    "beta_data"
   ]
  },
  {
   "cell_type": "code",
   "execution_count": 33,
   "metadata": {},
   "outputs": [
    {
     "data": {
      "text/plain": [
       "[Text(0,0.5,'Frequency'), Text(0.5,0,'Beta(60,40)')]"
      ]
     },
     "execution_count": 33,
     "metadata": {},
     "output_type": "execute_result"
    },
    {
     "data": {
      "image/png": "[encoded data removed]",
      "text/plain": [
       "<Figure size 432x288 with 1 Axes>"
      ]
     },
     "metadata": {
      "needs_background": "light"
     },
     "output_type": "display_data"
    }
   ],
   "source": [
    "ax = sns.distplot(beta_data,\n",
    "                kde=False,\n",
    "                bins=100,\n",
    "                color='skyblue',\n",
    "                hist_kws={\"linewidth\": 15,'alpha':1})\n",
    "ax.set(xlabel='Beta(60,40)', ylabel='Frequency')"
   ]
  },
  {
   "cell_type": "markdown",
   "metadata": {},
   "source": [
    "### Bernoulli / Binomial"
   ]
  },
  {
   "cell_type": "markdown",
   "metadata": {},
   "source": [
    "Chance a customer will call right now. For every second in a day run the trial once."
   ]
  },
  {
   "cell_type": "code",
   "execution_count": 38,
   "metadata": {},
   "outputs": [
    {
     "name": "stderr",
     "output_type": "stream",
     "text": [
      "C:\\Users\\Conor\\Anaconda3\\lib\\site-packages\\scipy\\stats\\stats.py:1713: FutureWarning: Using a non-tuple sequence for multidimensional indexing is deprecated; use `arr[tuple(seq)]` instead of `arr[seq]`. In the future this will be interpreted as an array index, `arr[np.array(seq)]`, which will result either in an error or a different result.\n",
      "  return np.add.reduce(sorted[indexer] * weights, axis=axis) / sumval\n"
     ]
    },
    {
     "data": {
      "text/plain": [
       "[Text(0,0.5,'Frequency'), Text(0.5,0,'Binomial')]"
      ]
     },
     "execution_count": 38,
     "metadata": {},
     "output_type": "execute_result"
    },
    {
     "data": {
      "image/png": "[encoded data removed]",
      "text/plain": [
       "<Figure size 432x288 with 1 Axes>"
      ]
     },
     "metadata": {
      "needs_background": "light"
     },
     "output_type": "display_data"
    }
   ],
   "source": [
    "# Check if call Yes / No once per second for one day.\n",
    "binom_data = np.random.binomial(1, 0.002, size=86400 )\n",
    "ax = sns.distplot(binom_data,\n",
    "                  kde=False,\n",
    "                  color='skyblue',\n",
    "                  hist_kws={\"linewidth\": 15,'alpha':1})\n",
    "ax.set(xlabel='Binomial', ylabel='Frequency')"
   ]
  },
  {
   "cell_type": "code",
   "execution_count": 42,
   "metadata": {},
   "outputs": [
    {
     "name": "stderr",
     "output_type": "stream",
     "text": [
      "C:\\Users\\Conor\\Anaconda3\\lib\\site-packages\\scipy\\stats\\stats.py:1713: FutureWarning: Using a non-tuple sequence for multidimensional indexing is deprecated; use `arr[tuple(seq)]` instead of `arr[seq]`. In the future this will be interpreted as an array index, `arr[np.array(seq)]`, which will result either in an error or a different result.\n",
      "  return np.add.reduce(sorted[indexer] * weights, axis=axis) / sumval\n"
     ]
    },
    {
     "data": {
      "text/plain": [
       "[Text(0,0.5,'Frequency'), Text(0.5,0,'Binomial')]"
      ]
     },
     "execution_count": 42,
     "metadata": {},
     "output_type": "execute_result"
    },
    {
     "data": {
      "image/png": "[encoded data removed]",
      "text/plain": [
       "<Figure size 432x288 with 1 Axes>"
      ]
     },
     "metadata": {
      "needs_background": "light"
     },
     "output_type": "display_data"
    }
   ],
   "source": [
    "# Check if call Yes / No 60 times per minute for a day.\n",
    "binom_data2 = np.random.binomial(60, 0.1, size=1440 )\n",
    "ax = sns.distplot(binom_data2,\n",
    "                  kde=False,\n",
    "                  color='skyblue',\n",
    "                  hist_kws={\"linewidth\": 15,'alpha':1})\n",
    "ax.set(xlabel='Binomial', ylabel='Frequency')"
   ]
  },
  {
   "cell_type": "markdown",
   "metadata": {},
   "source": [
    "### Poisson "
   ]
  },
  {
   "cell_type": "raw",
   "metadata": {},
   "source": [
    "Probability something will happen at a point in time"
   ]
  },
  {
   "cell_type": "code",
   "execution_count": 43,
   "metadata": {},
   "outputs": [
    {
     "name": "stderr",
     "output_type": "stream",
     "text": [
      "C:\\Users\\Conor\\Anaconda3\\lib\\site-packages\\scipy\\stats\\stats.py:1713: FutureWarning: Using a non-tuple sequence for multidimensional indexing is deprecated; use `arr[tuple(seq)]` instead of `arr[seq]`. In the future this will be interpreted as an array index, `arr[np.array(seq)]`, which will result either in an error or a different result.\n",
      "  return np.add.reduce(sorted[indexer] * weights, axis=axis) / sumval\n"
     ]
    },
    {
     "data": {
      "text/plain": [
       "[Text(0,0.5,'Frequency'), Text(0.5,0,'Poisson')]"
      ]
     },
     "execution_count": 43,
     "metadata": {},
     "output_type": "execute_result"
    },
    {
     "data": {
      "image/png": "[encoded data removed]",
      "text/plain": [
       "<Figure size 432x288 with 1 Axes>"
      ]
     },
     "metadata": {
      "needs_background": "light"
     },
     "output_type": "display_data"
    }
   ],
   "source": [
    "poisson_data = np.random.poisson(30, 1440)\n",
    "ax = sns.distplot(poisson_data,\n",
    "                  kde=False,\n",
    "                  color='green',\n",
    "                  hist_kws={\"linewidth\": 15,'alpha':1})\n",
    "ax.set(xlabel='Poisson', ylabel='Frequency')"
   ]
  },
  {
   "cell_type": "markdown",
   "metadata": {},
   "source": [
    "### Exponential "
   ]
  },
  {
   "cell_type": "raw",
   "metadata": {},
   "source": [
    "How much time until the next event."
   ]
  },
  {
   "cell_type": "code",
   "execution_count": 53,
   "metadata": {},
   "outputs": [
    {
     "name": "stderr",
     "output_type": "stream",
     "text": [
      "C:\\Users\\Conor\\Anaconda3\\lib\\site-packages\\scipy\\stats\\stats.py:1713: FutureWarning: Using a non-tuple sequence for multidimensional indexing is deprecated; use `arr[tuple(seq)]` instead of `arr[seq]`. In the future this will be interpreted as an array index, `arr[np.array(seq)]`, which will result either in an error or a different result.\n",
      "  return np.add.reduce(sorted[indexer] * weights, axis=axis) / sumval\n"
     ]
    },
    {
     "data": {
      "image/png": "[encoded data removed]",
      "text/plain": [
       "<Figure size 432x288 with 1 Axes>"
      ]
     },
     "metadata": {
      "needs_background": "light"
     },
     "output_type": "display_data"
    }
   ],
   "source": [
    "# Expected call every 60 mintues over a day.\n",
    "expo_data = np.random.exponential(scale=60, size=1440)\n",
    "ax = sns.distplot(expo_data,\n",
    "                  kde=False,\n",
    "                  color='skyblue',\n",
    "                  hist_kws={\"linewidth\": 60,'alpha':1})"
   ]
  },
  {
   "cell_type": "code",
   "execution_count": 55,
   "metadata": {},
   "outputs": [
    {
     "data": {
      "text/plain": [
       "62.11595296896933"
      ]
     },
     "execution_count": 55,
     "metadata": {},
     "output_type": "execute_result"
    }
   ],
   "source": [
    "expo_data.std()"
   ]
  },
  {
   "cell_type": "markdown",
   "metadata": {},
   "source": [
    "### Normal"
   ]
  },
  {
   "cell_type": "markdown",
   "metadata": {},
   "source": [
    "## Seeds and Pseudorandom Numbers"
   ]
  },
  {
   "cell_type": "markdown",
   "metadata": {},
   "source": []
  },
  {
   "cell_type": "code",
   "execution_count": null,
   "metadata": {},
   "outputs": [],
   "source": []
  },
  {
   "cell_type": "code",
   "execution_count": null,
   "metadata": {},
   "outputs": [],
   "source": []
  }
 ],
 "metadata": {
  "kernelspec": {
   "display_name": "Python 3",
   "language": "python",
   "name": "python3"
  },
  "language_info": {
   "codemirror_mode": {
    "name": "ipython",
    "version": 3
   },
   "file_extension": ".py",
   "mimetype": "text/x-python",
   "name": "python",
   "nbconvert_exporter": "python",
   "pygments_lexer": "ipython3",
   "version": "3.6.6"
  }
 },
 "nbformat": 4,
 "nbformat_minor": 2
}
