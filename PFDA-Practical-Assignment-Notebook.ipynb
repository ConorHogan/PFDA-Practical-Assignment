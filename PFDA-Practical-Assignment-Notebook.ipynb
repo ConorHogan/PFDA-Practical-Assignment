{
 "cells": [
  {
   "cell_type": "markdown",
   "metadata": {},
   "source": [
    "# The Numpy.random Package"
   ]
  },
  {
   "cell_type": "markdown",
   "metadata": {},
   "source": [
    "## 1.0 The Purpose of the Package"
   ]
  },
  {
   "cell_type": "markdown",
   "metadata": {},
   "source": [
    "### Uses for Pseudorandom Number Generators"
   ]
  },
  {
   "cell_type": "markdown",
   "metadata": {},
   "source": [
    "Random numbers are used for a variety of purposes. Some examples include:\n",
    "\n",
    "Games: Generate a different level each time the user returns to a game. Or with seeds you could ensure enemys came from the same place for that level\n",
    "\n",
    "Creative Coding: Generating random arrangement of shapes and colours. If you wanted to make adjustments you would use it without the seeds.\n",
    "\n",
    "Dummy Data: Creating dummy data for testing ideas.\n",
    "\n",
    "Simulations: Monte Carlo Simula\n",
    "tions."
   ]
  },
  {
   "cell_type": "markdown",
   "metadata": {},
   "source": []
  },
  {
   "cell_type": "markdown",
   "metadata": {},
   "source": []
  },
  {
   "cell_type": "markdown",
   "metadata": {},
   "source": [
    "## 2.0. Simple Random Data and Permutations"
   ]
  },
  {
   "cell_type": "markdown",
   "metadata": {},
   "source": [
    "### 2.1. Simple Random Data"
   ]
  },
  {
   "cell_type": "markdown",
   "metadata": {},
   "source": [
    "#### 2.1.1. rand"
   ]
  },
  {
   "cell_type": "markdown",
   "metadata": {},
   "source": [
    "This creates random numbers in a uniform distribution, meaning that the values are completely random in that the probability of a number being selected is equal across all numbers in the range. You can also specify the shape of the numbers in multiple dimensions. Entering one arguement will create a line. All numbers generate will be between 0 and 1."
   ]
  },
  {
   "cell_type": "code",
   "execution_count": 38,
   "metadata": {},
   "outputs": [
    {
     "name": "stdout",
     "output_type": "stream",
     "text": [
      "[7.20324493e-01 1.14374817e-04 3.02332573e-01 1.46755891e-01\n",
      " 9.23385948e-02 1.86260211e-01 3.45560727e-01 3.96767474e-01\n",
      " 5.38816734e-01 4.19194514e-01]\n"
     ]
    },
    {
     "data": {
      "image/png": "[encoded data removed]",
      "text/plain": [
       "<Figure size 432x288 with 1 Axes>"
      ]
     },
     "metadata": {
      "needs_background": "light"
     },
     "output_type": "display_data"
    }
   ],
   "source": [
    "import numpy as np\n",
    "import pandas as pd\n",
    "import seaborn as sns\n",
    "import matplotlib.pyplot as plt\n",
    "import scipy\n",
    "from scipy import stats\n",
    "\n",
    "list = np.random.rand(10)\n",
    "print(list)\n",
    "plt.plot(list)\n",
    "plt.show()\n",
    "    "
   ]
  },
  {
   "cell_type": "markdown",
   "metadata": {},
   "source": [
    "It can also be used to create a random number"
   ]
  },
  {
   "cell_type": "code",
   "execution_count": 2,
   "metadata": {},
   "outputs": [
    {
     "data": {
      "text/plain": [
       "0.33931858310048946"
      ]
     },
     "execution_count": 2,
     "metadata": {},
     "output_type": "execute_result"
    }
   ],
   "source": [
    "np.random.rand()"
   ]
  },
  {
   "cell_type": "markdown",
   "metadata": {},
   "source": [
    "#### 2.1.2. randn"
   ]
  },
  {
   "cell_type": "markdown",
   "metadata": {},
   "source": [
    "This function produces random number is a normal distribution as a opposed to a uniform distribution. It can take either an integer or shape as it's input. A normal distribution results in a \"bell curve\" when charted. This mean that higher percentate of the floats produced by the function will be clustered around the mean. 68.26% will be one standard deviation above or below the mean. 95.44% will be two standard deviation away from the mean. 99.72% will be 3 standard deviations away from the mean. \n",
    "\n",
    "When using *randn* the distribution produced will always have a mean of 0 and variance of 1"
   ]
  },
  {
   "cell_type": "code",
   "execution_count": 3,
   "metadata": {},
   "outputs": [
    {
     "name": "stderr",
     "output_type": "stream",
     "text": [
      "C:\\Users\\Conor\\Anaconda3\\lib\\site-packages\\scipy\\stats\\stats.py:1713: FutureWarning: Using a non-tuple sequence for multidimensional indexing is deprecated; use `arr[tuple(seq)]` instead of `arr[seq]`. In the future this will be interpreted as an array index, `arr[np.array(seq)]`, which will result either in an error or a different result.\n",
      "  return np.add.reduce(sorted[indexer] * weights, axis=axis) / sumval\n"
     ]
    },
    {
     "data": {
      "text/plain": [
       "<matplotlib.axes._subplots.AxesSubplot at 0x1cc8f470198>"
      ]
     },
     "execution_count": 3,
     "metadata": {},
     "output_type": "execute_result"
    },
    {
     "data": {
      "image/png": "[encoded data removed]",
      "text/plain": [
       "<Figure size 432x288 with 1 Axes>"
      ]
     },
     "metadata": {
      "needs_background": "light"
     },
     "output_type": "display_data"
    }
   ],
   "source": [
    "randnarray = np.random.randn(100000,1)\n",
    "\n",
    "sns.distplot(randnarray)"
   ]
  },
  {
   "cell_type": "markdown",
   "metadata": {},
   "source": [
    "#### 2.1.3. randint"
   ]
  },
  {
   "cell_type": "markdown",
   "metadata": {},
   "source": [
    "This function produces random integers in the range that is inputted. You can also specify the amount of numbers to be produced. If no \"size\" is specified the function will just produce one result. The upper range must always be one higher than the highest number you want to select from. For example, if 10 is the highest number you want, then you must enter 11 in the function parameters."
   ]
  },
  {
   "cell_type": "code",
   "execution_count": 4,
   "metadata": {},
   "outputs": [
    {
     "data": {
      "text/plain": [
       "1"
      ]
     },
     "execution_count": 4,
     "metadata": {},
     "output_type": "execute_result"
    }
   ],
   "source": [
    "# Picking a number between 1 and 10\n",
    "np.random.randint(0, 11)"
   ]
  },
  {
   "cell_type": "code",
   "execution_count": 5,
   "metadata": {},
   "outputs": [
    {
     "data": {
      "text/plain": [
       "-3"
      ]
     },
     "execution_count": 5,
     "metadata": {},
     "output_type": "execute_result"
    }
   ],
   "source": [
    "# Pick a number between -1 and -10\n",
    "np.random.randint(-10, 0)"
   ]
  },
  {
   "cell_type": "code",
   "execution_count": 6,
   "metadata": {},
   "outputs": [
    {
     "data": {
      "text/plain": [
       "143"
      ]
     },
     "execution_count": 6,
     "metadata": {},
     "output_type": "execute_result"
    }
   ],
   "source": [
    "# 10 random numbers from between 100 and 200.\n",
    "np.random.randint(100, 201)"
   ]
  },
  {
   "cell_type": "markdown",
   "metadata": {},
   "source": [
    "It is also possible to produce different shapes by entering a tuple as the \"size\" parameter. "
   ]
  },
  {
   "cell_type": "code",
   "execution_count": 7,
   "metadata": {},
   "outputs": [
    {
     "data": {
      "text/plain": [
       "array([[[10,  2,  0,  5,  4],\n",
       "        [10,  3,  6,  1,  0]],\n",
       "\n",
       "       [[ 9, 10,  0,  4,  8],\n",
       "        [ 0,  4,  2,  6,  0]],\n",
       "\n",
       "       [[ 4,  9,  0,  1, 10],\n",
       "        [ 7,  7,  2,  2,  1]]])"
      ]
     },
     "execution_count": 7,
     "metadata": {},
     "output_type": "execute_result"
    }
   ],
   "source": [
    "np.random.randint(11, size=(3,2,5))"
   ]
  },
  {
   "cell_type": "markdown",
   "metadata": {},
   "source": [
    "Finally, you can also specify the data type (dtype). "
   ]
  },
  {
   "cell_type": "code",
   "execution_count": 8,
   "metadata": {},
   "outputs": [
    {
     "data": {
      "text/plain": [
       "0"
      ]
     },
     "execution_count": 8,
     "metadata": {},
     "output_type": "execute_result"
    }
   ],
   "source": [
    "np.random.randint(1, dtype=\"int\")"
   ]
  },
  {
   "cell_type": "markdown",
   "metadata": {},
   "source": [
    "Floats and complex numbers are not supported, boolean outputs are as long as you limit the \"high\" value to 2."
   ]
  },
  {
   "cell_type": "code",
   "execution_count": 9,
   "metadata": {},
   "outputs": [
    {
     "data": {
      "text/plain": [
       "True"
      ]
     },
     "execution_count": 9,
     "metadata": {},
     "output_type": "execute_result"
    }
   ],
   "source": [
    "np.random.randint(2, dtype=\"bool\")"
   ]
  },
  {
   "cell_type": "markdown",
   "metadata": {},
   "source": [
    "#### Use: Random phone number generator or dice rolls"
   ]
  },
  {
   "cell_type": "markdown",
   "metadata": {},
   "source": [
    "       "
   ]
  },
  {
   "cell_type": "markdown",
   "metadata": {},
   "source": [
    "#### 2.1.4. random_integers"
   ]
  },
  {
   "cell_type": "markdown",
   "metadata": {},
   "source": [
    "This is a deprecated function that has been replaced by *randint* which is discussed above."
   ]
  },
  {
   "cell_type": "markdown",
   "metadata": {},
   "source": [
    "#### random_sample, random, ranf, sample"
   ]
  },
  {
   "cell_type": "markdown",
   "metadata": {},
   "source": [
    "These four functions all return a random float or array of floats depending on the parameters used. "
   ]
  },
  {
   "cell_type": "code",
   "execution_count": 10,
   "metadata": {},
   "outputs": [
    {
     "data": {
      "text/plain": [
       "0.29524961463316635"
      ]
     },
     "execution_count": 10,
     "metadata": {},
     "output_type": "execute_result"
    }
   ],
   "source": [
    "# single random float\n",
    "np.random.random_sample()"
   ]
  },
  {
   "cell_type": "code",
   "execution_count": 11,
   "metadata": {},
   "outputs": [
    {
     "data": {
      "text/plain": [
       "array([[0.22190504, 0.33615437],\n",
       "       [0.78397903, 0.30211901],\n",
       "       [0.10982801, 0.45783786],\n",
       "       [0.94011654, 0.1101776 ],\n",
       "       [0.91051599, 0.27134861]])"
      ]
     },
     "execution_count": 11,
     "metadata": {},
     "output_type": "execute_result"
    }
   ],
   "source": [
    "# array of floats\n",
    "np.random.random((5,2))"
   ]
  },
  {
   "cell_type": "markdown",
   "metadata": {},
   "source": [
    "#### 2.1.5. choice"
   ]
  },
  {
   "cell_type": "markdown",
   "metadata": {},
   "source": [
    "This function selects random options from a given one dimensional array. The options can be ints, floats, or an array like object such a list or tuple.\n",
    "\n",
    "For example, you could use this to randomly select a city in Ireland."
   ]
  },
  {
   "cell_type": "code",
   "execution_count": 12,
   "metadata": {},
   "outputs": [
    {
     "name": "stdout",
     "output_type": "stream",
     "text": [
      "You're going to Dublin!!!!\n"
     ]
    }
   ],
   "source": [
    "# Where will I go for the long weekend?\n",
    "\n",
    "cities = [\"Limerick\", \"Galway\", \"Cork\", \"Dublin\", \"Waterford\", \"Kilkenny\"]\n",
    "print(\"You're going to \" + np.random.choice(cities) + \"!!!!\")"
   ]
  },
  {
   "cell_type": "markdown",
   "metadata": {},
   "source": [
    "As with all the previous random functions, you can also specify the shape of the data you want to select. You can also choose to prevent the same result being returned twice using the \"replacement\" parameter."
   ]
  },
  {
   "cell_type": "code",
   "execution_count": 13,
   "metadata": {},
   "outputs": [
    {
     "data": {
      "text/plain": [
       "array([['Limerick', 'Limerick', 'Limerick'],\n",
       "       ['Galway', 'Dublin', 'Waterford']], dtype='<U9')"
      ]
     },
     "execution_count": 13,
     "metadata": {},
     "output_type": "execute_result"
    }
   ],
   "source": [
    "# Randomly rank the cities in two tiers - without using replacement you can end up with the same city in both tiers.\n",
    "\n",
    "np.random.choice(cities, size=(2,3))"
   ]
  },
  {
   "cell_type": "code",
   "execution_count": 14,
   "metadata": {},
   "outputs": [
    {
     "data": {
      "text/plain": [
       "array([['Waterford', 'Limerick', 'Cork'],\n",
       "       ['Galway', 'Dublin', 'Kilkenny']], dtype='<U9')"
      ]
     },
     "execution_count": 14,
     "metadata": {},
     "output_type": "execute_result"
    }
   ],
   "source": [
    "# Randomly rank the cities in two tiers - with replacement = false you will get two sets of unique values\n",
    "\n",
    "np.random.choice(cities, size=(2,3), replace=False)"
   ]
  },
  {
   "cell_type": "markdown",
   "metadata": {},
   "source": [
    "Finally, you can also weight the probability of a certain option being selected. The sum of the probabilites must be 1."
   ]
  },
  {
   "cell_type": "code",
   "execution_count": 15,
   "metadata": {},
   "outputs": [
    {
     "name": "stdout",
     "output_type": "stream",
     "text": [
      "Our totally unbiased computer has selected Limerick as the best city in Ireland.\n"
     ]
    }
   ],
   "source": [
    "# What is the best city in Ireland? \n",
    "print(\"Our totally unbiased computer has selected \" + np.random.choice(cities, p=[0.95, 0.01, 0.01, 0.01, 0.01, 0.01])\n",
    "          + \" as the best city in Ireland.\")"
   ]
  },
  {
   "cell_type": "markdown",
   "metadata": {},
   "source": [
    "#### 2.1.6. bytes"
   ]
  },
  {
   "cell_type": "markdown",
   "metadata": {},
   "source": [
    "This function generates a string of bytes of a specified length."
   ]
  },
  {
   "cell_type": "code",
   "execution_count": 16,
   "metadata": {},
   "outputs": [
    {
     "data": {
      "text/plain": [
       "b'\\x93\\xe1\\x85\\xbcA\\xab\\xeaY-\\xf8\\xebA\\xafS>=\\xe4\\xb8\\x965'"
      ]
     },
     "execution_count": 16,
     "metadata": {},
     "output_type": "execute_result"
    }
   ],
   "source": [
    "np.random.bytes(20)"
   ]
  },
  {
   "cell_type": "markdown",
   "metadata": {},
   "source": [
    "Bar some creepy ouija board scenario, the bytes returned will be nonsense, but we can attempt to decode and view the characters using the \"chardet\" package and the \"decode\" method. However, sometimes the bytes won't have encoding and we won't be able to translate."
   ]
  },
  {
   "cell_type": "code",
   "execution_count": 17,
   "metadata": {},
   "outputs": [
    {
     "name": "stdout",
     "output_type": "stream",
     "text": [
      "Your string of bytes: b'\\x8cvc\\xf6\\x95\\xec\\x9bV\\xcex'\n",
      " \n",
      "Encoding type detected = Windows-1252\n",
      " \n",
      "Decoded bytes = Œvcö•ì›VÎx\n"
     ]
    }
   ],
   "source": [
    "\"\"\"Detect what the encoding used is. https://stackoverflow.com/questions/15918314/how-to-detect-string-byte-encoding\"\"\"\n",
    "import chardet\n",
    "\n",
    "bytes_str = np.random.bytes(10)\n",
    "print(\"Your string of bytes:\", bytes_str)\n",
    "print(\" \")\n",
    "detect_encoding = chardet.detect(bytes_str)[\"encoding\"]\n",
    "if detect_encoding is None:\n",
    "    print(\"Bytes not encoded - can't translate\")\n",
    "else:\n",
    "    print(\"Encoding type detected =\", detect_encoding)\n",
    "    print(\" \")\n",
    "    print(\"Decoded bytes =\", bytes_str.decode(detect_encoding))\n"
   ]
  },
  {
   "cell_type": "code",
   "execution_count": 18,
   "metadata": {},
   "outputs": [
    {
     "data": {
      "text/plain": [
       "27"
      ]
     },
     "execution_count": 18,
     "metadata": {},
     "output_type": "execute_result"
    }
   ],
   "source": [
    "# bytes to integer\n",
    "bytes2 = np.random.bytes(1)\n",
    "int.from_bytes(bytes2, byteorder=\"big\")"
   ]
  },
  {
   "cell_type": "markdown",
   "metadata": {},
   "source": [
    "### 2.2. Permutations"
   ]
  },
  {
   "cell_type": "markdown",
   "metadata": {},
   "source": [
    "#### 2.2.1. Shuffle"
   ]
  },
  {
   "cell_type": "markdown",
   "metadata": {},
   "source": [
    "The shuffle function reorganises an array of data. See example below."
   ]
  },
  {
   "cell_type": "code",
   "execution_count": 19,
   "metadata": {},
   "outputs": [
    {
     "name": "stdout",
     "output_type": "stream",
     "text": [
      "[83 94 35 34 93  5 25 91 31 30]\n",
      "[25  5 31 30 34 93 94 83 35 91]\n"
     ]
    }
   ],
   "source": [
    "shuff_ints = np.random.randint(100, size=10)\n",
    "print(shuff_ints)\n",
    "np.random.shuffle(shuff_ints)\n",
    "print(shuff_ints)"
   ]
  },
  {
   "cell_type": "markdown",
   "metadata": {},
   "source": [
    "Most people would be familiar with the concept of shuffling from playing cards. It ensures fairnees by breaking up the order of cards from their suits and values / heirarchy. \n",
    "\n",
    "An online blackjack game would be very easy to predict if we new the order the cards were going to be dealt from the deck. "
   ]
  },
  {
   "cell_type": "code",
   "execution_count": 20,
   "metadata": {
    "scrolled": true
   },
   "outputs": [
    {
     "name": "stdout",
     "output_type": "stream",
     "text": [
      "['2 of Hearts', '3 of Hearts', '4 of Hearts', '5 of Hearts', '6 of Hearts', '7 of Hearts', '8 of Hearts', '9 of Hearts', '10 of Hearts', 'Jack of Hearts', 'Queen of Hearts', 'King of Hearts', 'Ace of Hearts', '2 of Clubs', '3 of Clubs', '4 of Clubs', '5 of Clubs', '6 of Clubs', '7 of Clubs', '8 of Clubs', '9 of Clubs', '10 of Clubs', 'Jack of Clubs', 'Queen of Clubs', 'King of Clubs', 'Ace of Clubs', '2 of Diamonds', '3 of Diamonds', '4 of Diamonds', '5 of Diamonds', '6 of Diamonds', '7 of Diamonds', '8 of Diamonds', '9 of Diamonds', '10 of Diamonds', 'Jack of Diamonds', 'Queen of Diamonds', 'King of Diamonds', 'Ace of Diamonds', '2 of Spades', '3 of Spades', '4 of Spades', '5 of Spades', '6 of Spades', '7 of Spades', '8 of Spades', '9 of Spades', '10 of Spades', 'Jack of Spades', 'Queen of Spades', 'King of Spades', 'Ace of Spades']\n"
     ]
    }
   ],
   "source": [
    "# create a deck of cards - https://stackoverflow.com/questions/41970795/what-is-the-best-way-to-create-a-deck-of-cards\n",
    "values = ['2','3','4','5','6','7','8','9','10','Jack','Queen','King','Ace']\n",
    "suites = ['Hearts', 'Clubs', 'Diamonds', 'Spades']\n",
    "deck = [v + ' of ' + s for s in suites for v in values]\n",
    "print(deck)"
   ]
  },
  {
   "cell_type": "code",
   "execution_count": 21,
   "metadata": {},
   "outputs": [
    {
     "name": "stdout",
     "output_type": "stream",
     "text": [
      "['Ace of Clubs', '8 of Diamonds', '9 of Spades', '5 of Diamonds', 'Ace of Hearts', '3 of Clubs', 'Jack of Hearts', 'Queen of Spades', '6 of Diamonds', '6 of Spades', 'Ace of Diamonds', '3 of Diamonds', '2 of Diamonds', '2 of Spades', '9 of Hearts', '9 of Diamonds', 'King of Clubs', '6 of Clubs', 'King of Spades', 'King of Hearts', '7 of Diamonds', 'Queen of Diamonds', '8 of Spades', '10 of Hearts', 'Ace of Spades', '5 of Clubs', '3 of Hearts', 'King of Diamonds', '10 of Spades', '5 of Spades', 'Queen of Clubs', '10 of Diamonds', '8 of Clubs', 'Jack of Spades', '4 of Diamonds', 'Jack of Clubs', '7 of Spades', 'Jack of Diamonds', '4 of Spades', '9 of Clubs', '2 of Hearts', '8 of Hearts', 'Queen of Hearts', '6 of Hearts', '4 of Hearts', '5 of Hearts', '10 of Clubs', '7 of Hearts', '4 of Clubs', '3 of Spades', '7 of Clubs', '2 of Clubs']\n"
     ]
    }
   ],
   "source": [
    "#shuffle our deck\n",
    "np.random.shuffle(deck)\n",
    "print(deck)"
   ]
  },
  {
   "cell_type": "markdown",
   "metadata": {},
   "source": [
    "One of the most important uses for shuffling in data science is for training in machine learning. If data is sorted by class / target ordered in groups with simlar characteristics (like a deck of cards), suffling data ensures that the subset of the data you us for training is representative of the entrie dataset and does not build biases into the model.\n",
    "\n",
    "A good example of this is our old friend Fisher's Iris dataset. The data comes sorted into the three classes of Iris. If we were to take the first 50 values as our training set for a K Nearest Neighbours algorithm, it would not be able to make accurate predictions for two of the spicies of Iris in the dataset. See example below.\n"
   ]
  },
  {
   "cell_type": "code",
   "execution_count": 22,
   "metadata": {},
   "outputs": [],
   "source": [
    "import sklearn as skl\n",
    "url = 'https://raw.githubusercontent.com/ConorHogan/Programming_Scripting_Projects/master/Iris_Data.csv'\n",
    "irisdf = pd.read_csv(url, header=None) \n",
    "irisdf.columns = [\"S_Length\",\"S_Width\",\"P_Length\",\"P_Width\",\"Species\"]\n",
    "irisdf.columns.name = \"Attributes\"\n",
    "irisdf.set_index(\"Species\", inplace=True)\n",
    "\n"
   ]
  },
  {
   "cell_type": "markdown",
   "metadata": {},
   "source": [
    "#### 2.2.2. Permutation"
   ]
  },
  {
   "cell_type": "markdown",
   "metadata": {},
   "source": [
    "The Permutation function randomly permutes a sequence of integers or elements from an array."
   ]
  },
  {
   "cell_type": "code",
   "execution_count": 23,
   "metadata": {},
   "outputs": [
    {
     "data": {
      "text/plain": [
       "array([40, 21, 48, 94, 28, 96, 92, 67, 38, 78, 39, 31, 55, 15, 84, 18, 22,\n",
       "       30, 32, 60,  1, 75, 79, 81, 91, 95, 43, 77, 72, 73, 66, 59,  4, 83,\n",
       "       74, 47,  0, 34, 69,  3, 33, 49, 17, 89, 11, 35, 70, 53, 42, 65, 87,\n",
       "       44,  5, 25, 57, 19, 14,  6, 93, 64, 46, 13, 24, 26, 12,  2, 86, 63,\n",
       "       76, 58,  8, 36, 97, 23, 29, 80, 16, 41, 37, 51,  7, 50, 61,  9, 99,\n",
       "       45, 10, 56, 88, 71, 54, 98, 82, 85, 68, 20, 27, 52, 90, 62])"
      ]
     },
     "execution_count": 23,
     "metadata": {},
     "output_type": "execute_result"
    }
   ],
   "source": [
    "# Permute numbers from 0 to 100.\n",
    "np.random.permutation(100)"
   ]
  },
  {
   "cell_type": "code",
   "execution_count": 24,
   "metadata": {},
   "outputs": [
    {
     "data": {
      "text/plain": [
       "array(['Cork', 'Waterford', 'Galway', 'Limerick', 'Dublin', 'Kilkenny'],\n",
       "      dtype='<U9')"
      ]
     },
     "execution_count": 24,
     "metadata": {},
     "output_type": "execute_result"
    }
   ],
   "source": [
    "# Permute elements from an array\n",
    "np.random.permutation(cities)"
   ]
  },
  {
   "cell_type": "markdown",
   "metadata": {},
   "source": [
    "Permuting in a multi-dimentional only shuffles data along it's first index. "
   ]
  },
  {
   "cell_type": "code",
   "execution_count": 25,
   "metadata": {},
   "outputs": [
    {
     "name": "stdout",
     "output_type": "stream",
     "text": [
      "[['Iris-setosa' 5.1 3.5 1.4 0.2]\n",
      " ['Iris-setosa' 4.9 3.0 1.4 0.2]\n",
      " ['Iris-setosa' 4.7 3.2 1.3 0.2]\n",
      " ['Iris-setosa' 4.6 3.1 1.5 0.2]\n",
      " ['Iris-setosa' 5.0 3.6 1.4 0.2]\n",
      " ['Iris-setosa' 5.4 3.9 1.7 0.4]\n",
      " ['Iris-setosa' 4.6 3.4 1.4 0.3]\n",
      " ['Iris-setosa' 5.0 3.4 1.5 0.2]\n",
      " ['Iris-setosa' 4.4 2.9 1.4 0.2]\n",
      " ['Iris-setosa' 4.9 3.1 1.5 0.1]\n",
      " ['Iris-setosa' 5.4 3.7 1.5 0.2]\n",
      " ['Iris-setosa' 4.8 3.4 1.6 0.2]\n",
      " ['Iris-setosa' 4.8 3.0 1.4 0.1]\n",
      " ['Iris-setosa' 4.3 3.0 1.1 0.1]\n",
      " ['Iris-setosa' 5.8 4.0 1.2 0.2]\n",
      " ['Iris-setosa' 5.7 4.4 1.5 0.4]\n",
      " ['Iris-setosa' 5.4 3.9 1.3 0.4]\n",
      " ['Iris-setosa' 5.1 3.5 1.4 0.3]\n",
      " ['Iris-setosa' 5.7 3.8 1.7 0.3]\n",
      " ['Iris-setosa' 5.1 3.8 1.5 0.3]\n",
      " ['Iris-setosa' 5.4 3.4 1.7 0.2]\n",
      " ['Iris-setosa' 5.1 3.7 1.5 0.4]\n",
      " ['Iris-setosa' 4.6 3.6 1.0 0.2]\n",
      " ['Iris-setosa' 5.1 3.3 1.7 0.5]\n",
      " ['Iris-setosa' 4.8 3.4 1.9 0.2]\n",
      " ['Iris-setosa' 5.0 3.0 1.6 0.2]\n",
      " ['Iris-setosa' 5.0 3.4 1.6 0.4]\n",
      " ['Iris-setosa' 5.2 3.5 1.5 0.2]\n",
      " ['Iris-setosa' 5.2 3.4 1.4 0.2]\n",
      " ['Iris-setosa' 4.7 3.2 1.6 0.2]\n",
      " ['Iris-setosa' 4.8 3.1 1.6 0.2]\n",
      " ['Iris-setosa' 5.4 3.4 1.5 0.4]\n",
      " ['Iris-setosa' 5.2 4.1 1.5 0.1]\n",
      " ['Iris-setosa' 5.5 4.2 1.4 0.2]\n",
      " ['Iris-setosa' 4.9 3.1 1.5 0.2]\n",
      " ['Iris-setosa' 5.0 3.2 1.2 0.2]\n",
      " ['Iris-setosa' 5.5 3.5 1.3 0.2]\n",
      " ['Iris-setosa' 4.9 3.6 1.4 0.1]\n",
      " ['Iris-setosa' 4.4 3.0 1.3 0.2]\n",
      " ['Iris-setosa' 5.1 3.4 1.5 0.2]\n",
      " ['Iris-setosa' 5.0 3.5 1.3 0.3]\n",
      " ['Iris-setosa' 4.5 2.3 1.3 0.3]\n",
      " ['Iris-setosa' 4.4 3.2 1.3 0.2]\n",
      " ['Iris-setosa' 5.0 3.5 1.6 0.6]\n",
      " ['Iris-setosa' 5.1 3.8 1.9 0.4]\n",
      " ['Iris-setosa' 4.8 3.0 1.4 0.3]\n",
      " ['Iris-setosa' 5.1 3.8 1.6 0.2]\n",
      " ['Iris-setosa' 4.6 3.2 1.4 0.2]\n",
      " ['Iris-setosa' 5.3 3.7 1.5 0.2]\n",
      " ['Iris-setosa' 5.0 3.3 1.4 0.2]\n",
      " ['Iris-versicolor' 7.0 3.2 4.7 1.4]\n",
      " ['Iris-versicolor' 6.4 3.2 4.5 1.5]\n",
      " ['Iris-versicolor' 6.9 3.1 4.9 1.5]\n",
      " ['Iris-versicolor' 5.5 2.3 4.0 1.3]\n",
      " ['Iris-versicolor' 6.5 2.8 4.6 1.5]\n",
      " ['Iris-versicolor' 5.7 2.8 4.5 1.3]\n",
      " ['Iris-versicolor' 6.3 3.3 4.7 1.6]\n",
      " ['Iris-versicolor' 4.9 2.4 3.3 1.0]\n",
      " ['Iris-versicolor' 6.6 2.9 4.6 1.3]\n",
      " ['Iris-versicolor' 5.2 2.7 3.9 1.4]\n",
      " ['Iris-versicolor' 5.0 2.0 3.5 1.0]\n",
      " ['Iris-versicolor' 5.9 3.0 4.2 1.5]\n",
      " ['Iris-versicolor' 6.0 2.2 4.0 1.0]\n",
      " ['Iris-versicolor' 6.1 2.9 4.7 1.4]\n",
      " ['Iris-versicolor' 5.6 2.9 3.6 1.3]\n",
      " ['Iris-versicolor' 6.7 3.1 4.4 1.4]\n",
      " ['Iris-versicolor' 5.6 3.0 4.5 1.5]\n",
      " ['Iris-versicolor' 5.8 2.7 4.1 1.0]\n",
      " ['Iris-versicolor' 6.2 2.2 4.5 1.5]\n",
      " ['Iris-versicolor' 5.6 2.5 3.9 1.1]\n",
      " ['Iris-versicolor' 5.9 3.2 4.8 1.8]\n",
      " ['Iris-versicolor' 6.1 2.8 4.0 1.3]\n",
      " ['Iris-versicolor' 6.3 2.5 4.9 1.5]\n",
      " ['Iris-versicolor' 6.1 2.8 4.7 1.2]\n",
      " ['Iris-versicolor' 6.4 2.9 4.3 1.3]\n",
      " ['Iris-versicolor' 6.6 3.0 4.4 1.4]\n",
      " ['Iris-versicolor' 6.8 2.8 4.8 1.4]\n",
      " ['Iris-versicolor' 6.7 3.0 5.0 1.7]\n",
      " ['Iris-versicolor' 6.0 2.9 4.5 1.5]\n",
      " ['Iris-versicolor' 5.7 2.6 3.5 1.0]\n",
      " ['Iris-versicolor' 5.5 2.4 3.8 1.1]\n",
      " ['Iris-versicolor' 5.5 2.4 3.7 1.0]\n",
      " ['Iris-versicolor' 5.8 2.7 3.9 1.2]\n",
      " ['Iris-versicolor' 6.0 2.7 5.1 1.6]\n",
      " ['Iris-versicolor' 5.4 3.0 4.5 1.5]\n",
      " ['Iris-versicolor' 6.0 3.4 4.5 1.6]\n",
      " ['Iris-versicolor' 6.7 3.1 4.7 1.5]\n",
      " ['Iris-versicolor' 6.3 2.3 4.4 1.3]\n",
      " ['Iris-versicolor' 5.6 3.0 4.1 1.3]\n",
      " ['Iris-versicolor' 5.5 2.5 4.0 1.3]\n",
      " ['Iris-versicolor' 5.5 2.6 4.4 1.2]\n",
      " ['Iris-versicolor' 6.1 3.0 4.6 1.4]\n",
      " ['Iris-versicolor' 5.8 2.6 4.0 1.2]\n",
      " ['Iris-versicolor' 5.0 2.3 3.3 1.0]\n",
      " ['Iris-versicolor' 5.6 2.7 4.2 1.3]\n",
      " ['Iris-versicolor' 5.7 3.0 4.2 1.2]\n",
      " ['Iris-versicolor' 5.7 2.9 4.2 1.3]\n",
      " ['Iris-versicolor' 6.2 2.9 4.3 1.3]\n",
      " ['Iris-versicolor' 5.1 2.5 3.0 1.1]\n",
      " ['Iris-versicolor' 5.7 2.8 4.1 1.3]\n",
      " ['Iris-virginica' 6.3 3.3 6.0 2.5]\n",
      " ['Iris-virginica' 5.8 2.7 5.1 1.9]\n",
      " ['Iris-virginica' 7.1 3.0 5.9 2.1]\n",
      " ['Iris-virginica' 6.3 2.9 5.6 1.8]\n",
      " ['Iris-virginica' 6.5 3.0 5.8 2.2]\n",
      " ['Iris-virginica' 7.6 3.0 6.6 2.1]\n",
      " ['Iris-virginica' 4.9 2.5 4.5 1.7]\n",
      " ['Iris-virginica' 7.3 2.9 6.3 1.8]\n",
      " ['Iris-virginica' 6.7 2.5 5.8 1.8]\n",
      " ['Iris-virginica' 7.2 3.6 6.1 2.5]\n",
      " ['Iris-virginica' 6.5 3.2 5.1 2.0]\n",
      " ['Iris-virginica' 6.4 2.7 5.3 1.9]\n",
      " ['Iris-virginica' 6.8 3.0 5.5 2.1]\n",
      " ['Iris-virginica' 5.7 2.5 5.0 2.0]\n",
      " ['Iris-virginica' 5.8 2.8 5.1 2.4]\n",
      " ['Iris-virginica' 6.4 3.2 5.3 2.3]\n",
      " ['Iris-virginica' 6.5 3.0 5.5 1.8]\n",
      " ['Iris-virginica' 7.7 3.8 6.7 2.2]\n",
      " ['Iris-virginica' 7.7 2.6 6.9 2.3]\n",
      " ['Iris-virginica' 6.0 2.2 5.0 1.5]\n",
      " ['Iris-virginica' 6.9 3.2 5.7 2.3]\n",
      " ['Iris-virginica' 5.6 2.8 4.9 2.0]\n",
      " ['Iris-virginica' 7.7 2.8 6.7 2.0]\n",
      " ['Iris-virginica' 6.3 2.7 4.9 1.8]\n",
      " ['Iris-virginica' 6.7 3.3 5.7 2.1]\n",
      " ['Iris-virginica' 7.2 3.2 6.0 1.8]\n",
      " ['Iris-virginica' 6.2 2.8 4.8 1.8]\n",
      " ['Iris-virginica' 6.1 3.0 4.9 1.8]\n",
      " ['Iris-virginica' 6.4 2.8 5.6 2.1]\n",
      " ['Iris-virginica' 7.2 3.0 5.8 1.6]\n",
      " ['Iris-virginica' 7.4 2.8 6.1 1.9]\n",
      " ['Iris-virginica' 7.9 3.8 6.4 2.0]\n",
      " ['Iris-virginica' 6.4 2.8 5.6 2.2]\n",
      " ['Iris-virginica' 6.3 2.8 5.1 1.5]\n",
      " ['Iris-virginica' 6.1 2.6 5.6 1.4]\n",
      " ['Iris-virginica' 7.7 3.0 6.1 2.3]\n",
      " ['Iris-virginica' 6.3 3.4 5.6 2.4]\n",
      " ['Iris-virginica' 6.4 3.1 5.5 1.8]\n",
      " ['Iris-virginica' 6.0 3.0 4.8 1.8]\n",
      " ['Iris-virginica' 6.9 3.1 5.4 2.1]\n",
      " ['Iris-virginica' 6.7 3.1 5.6 2.4]\n",
      " ['Iris-virginica' 6.9 3.1 5.1 2.3]\n",
      " ['Iris-virginica' 5.8 2.7 5.1 1.9]\n",
      " ['Iris-virginica' 6.8 3.2 5.9 2.3]\n",
      " ['Iris-virginica' 6.7 3.3 5.7 2.5]\n",
      " ['Iris-virginica' 6.7 3.0 5.2 2.3]\n",
      " ['Iris-virginica' 6.3 2.5 5.0 1.9]\n",
      " ['Iris-virginica' 6.5 3.0 5.2 2.0]\n",
      " ['Iris-virginica' 6.2 3.4 5.4 2.3]\n",
      " ['Iris-virginica' 5.9 3.0 5.1 1.8]]\n"
     ]
    }
   ],
   "source": [
    "#Using the Iris dataset\n",
    "irisarray = irisdf.reset_index().values # convert pandas dataframe to array.\n",
    "print(irisarray)"
   ]
  },
  {
   "cell_type": "code",
   "execution_count": 26,
   "metadata": {},
   "outputs": [
    {
     "data": {
      "text/plain": [
       "array([['Iris-virginica', 5.9, 3.0, 5.1, 1.8],\n",
       "       ['Iris-virginica', 6.9, 3.1, 5.1, 2.3],\n",
       "       ['Iris-versicolor', 6.0, 2.9, 4.5, 1.5],\n",
       "       ['Iris-setosa', 4.8, 3.1, 1.6, 0.2],\n",
       "       ['Iris-versicolor', 5.6, 2.7, 4.2, 1.3],\n",
       "       ['Iris-versicolor', 6.4, 3.2, 4.5, 1.5],\n",
       "       ['Iris-virginica', 6.7, 3.3, 5.7, 2.5],\n",
       "       ['Iris-versicolor', 5.7, 3.0, 4.2, 1.2],\n",
       "       ['Iris-virginica', 6.1, 3.0, 4.9, 1.8],\n",
       "       ['Iris-setosa', 5.2, 4.1, 1.5, 0.1],\n",
       "       ['Iris-virginica', 7.7, 2.8, 6.7, 2.0],\n",
       "       ['Iris-setosa', 4.4, 3.0, 1.3, 0.2],\n",
       "       ['Iris-versicolor', 5.0, 2.3, 3.3, 1.0],\n",
       "       ['Iris-versicolor', 6.2, 2.9, 4.3, 1.3],\n",
       "       ['Iris-setosa', 5.1, 3.4, 1.5, 0.2],\n",
       "       ['Iris-setosa', 5.4, 3.4, 1.5, 0.4],\n",
       "       ['Iris-versicolor', 5.8, 2.7, 3.9, 1.2],\n",
       "       ['Iris-versicolor', 5.0, 2.0, 3.5, 1.0],\n",
       "       ['Iris-versicolor', 5.9, 3.2, 4.8, 1.8],\n",
       "       ['Iris-virginica', 7.7, 3.0, 6.1, 2.3],\n",
       "       ['Iris-versicolor', 5.7, 2.6, 3.5, 1.0],\n",
       "       ['Iris-versicolor', 6.6, 2.9, 4.6, 1.3],\n",
       "       ['Iris-versicolor', 5.6, 2.9, 3.6, 1.3],\n",
       "       ['Iris-virginica', 5.6, 2.8, 4.9, 2.0],\n",
       "       ['Iris-versicolor', 5.2, 2.7, 3.9, 1.4],\n",
       "       ['Iris-virginica', 7.7, 2.6, 6.9, 2.3],\n",
       "       ['Iris-virginica', 5.7, 2.5, 5.0, 2.0],\n",
       "       ['Iris-versicolor', 6.5, 2.8, 4.6, 1.5],\n",
       "       ['Iris-setosa', 4.8, 3.4, 1.6, 0.2],\n",
       "       ['Iris-setosa', 5.0, 3.2, 1.2, 0.2],\n",
       "       ['Iris-versicolor', 6.9, 3.1, 4.9, 1.5],\n",
       "       ['Iris-virginica', 7.7, 3.8, 6.7, 2.2],\n",
       "       ['Iris-setosa', 5.4, 3.7, 1.5, 0.2],\n",
       "       ['Iris-setosa', 4.9, 3.1, 1.5, 0.2],\n",
       "       ['Iris-virginica', 6.4, 2.8, 5.6, 2.1],\n",
       "       ['Iris-virginica', 6.9, 3.2, 5.7, 2.3],\n",
       "       ['Iris-versicolor', 5.5, 2.5, 4.0, 1.3],\n",
       "       ['Iris-virginica', 6.8, 3.2, 5.9, 2.3],\n",
       "       ['Iris-setosa', 5.7, 4.4, 1.5, 0.4],\n",
       "       ['Iris-versicolor', 6.0, 2.7, 5.1, 1.6],\n",
       "       ['Iris-versicolor', 5.8, 2.6, 4.0, 1.2],\n",
       "       ['Iris-versicolor', 6.3, 2.5, 4.9, 1.5],\n",
       "       ['Iris-setosa', 5.1, 3.5, 1.4, 0.2],\n",
       "       ['Iris-virginica', 6.2, 3.4, 5.4, 2.3],\n",
       "       ['Iris-versicolor', 6.1, 2.9, 4.7, 1.4],\n",
       "       ['Iris-versicolor', 6.7, 3.1, 4.7, 1.5],\n",
       "       ['Iris-virginica', 6.5, 3.0, 5.2, 2.0],\n",
       "       ['Iris-virginica', 6.0, 3.0, 4.8, 1.8],\n",
       "       ['Iris-setosa', 5.1, 3.8, 1.6, 0.2],\n",
       "       ['Iris-virginica', 6.4, 3.2, 5.3, 2.3],\n",
       "       ['Iris-setosa', 4.9, 3.0, 1.4, 0.2],\n",
       "       ['Iris-versicolor', 5.7, 2.8, 4.1, 1.3],\n",
       "       ['Iris-virginica', 6.4, 2.7, 5.3, 1.9],\n",
       "       ['Iris-versicolor', 6.0, 3.4, 4.5, 1.6],\n",
       "       ['Iris-versicolor', 6.8, 2.8, 4.8, 1.4],\n",
       "       ['Iris-setosa', 5.1, 3.3, 1.7, 0.5],\n",
       "       ['Iris-setosa', 4.8, 3.4, 1.9, 0.2],\n",
       "       ['Iris-virginica', 7.2, 3.2, 6.0, 1.8],\n",
       "       ['Iris-setosa', 5.5, 3.5, 1.3, 0.2],\n",
       "       ['Iris-setosa', 5.2, 3.5, 1.5, 0.2],\n",
       "       ['Iris-versicolor', 5.7, 2.8, 4.5, 1.3],\n",
       "       ['Iris-virginica', 6.1, 2.6, 5.6, 1.4],\n",
       "       ['Iris-versicolor', 5.4, 3.0, 4.5, 1.5],\n",
       "       ['Iris-versicolor', 6.3, 3.3, 4.7, 1.6],\n",
       "       ['Iris-setosa', 5.1, 3.8, 1.9, 0.4],\n",
       "       ['Iris-virginica', 6.3, 2.8, 5.1, 1.5],\n",
       "       ['Iris-versicolor', 6.1, 2.8, 4.0, 1.3],\n",
       "       ['Iris-versicolor', 5.5, 2.3, 4.0, 1.3],\n",
       "       ['Iris-setosa', 5.0, 3.3, 1.4, 0.2],\n",
       "       ['Iris-versicolor', 5.6, 3.0, 4.5, 1.5],\n",
       "       ['Iris-virginica', 7.9, 3.8, 6.4, 2.0],\n",
       "       ['Iris-virginica', 6.5, 3.0, 5.8, 2.2],\n",
       "       ['Iris-virginica', 6.3, 3.4, 5.6, 2.4],\n",
       "       ['Iris-setosa', 5.5, 4.2, 1.4, 0.2],\n",
       "       ['Iris-setosa', 5.0, 3.0, 1.6, 0.2],\n",
       "       ['Iris-virginica', 4.9, 2.5, 4.5, 1.7],\n",
       "       ['Iris-virginica', 5.8, 2.8, 5.1, 2.4],\n",
       "       ['Iris-setosa', 5.4, 3.4, 1.7, 0.2],\n",
       "       ['Iris-versicolor', 5.1, 2.5, 3.0, 1.1],\n",
       "       ['Iris-virginica', 6.3, 2.9, 5.6, 1.8],\n",
       "       ['Iris-versicolor', 5.5, 2.4, 3.7, 1.0],\n",
       "       ['Iris-versicolor', 5.8, 2.7, 4.1, 1.0],\n",
       "       ['Iris-setosa', 5.7, 3.8, 1.7, 0.3],\n",
       "       ['Iris-versicolor', 6.4, 2.9, 4.3, 1.3],\n",
       "       ['Iris-virginica', 7.3, 2.9, 6.3, 1.8],\n",
       "       ['Iris-versicolor', 7.0, 3.2, 4.7, 1.4],\n",
       "       ['Iris-setosa', 4.9, 3.6, 1.4, 0.1],\n",
       "       ['Iris-versicolor', 5.6, 2.5, 3.9, 1.1],\n",
       "       ['Iris-setosa', 4.5, 2.3, 1.3, 0.3],\n",
       "       ['Iris-virginica', 6.3, 2.7, 4.9, 1.8],\n",
       "       ['Iris-setosa', 5.0, 3.5, 1.6, 0.6],\n",
       "       ['Iris-virginica', 6.7, 3.0, 5.2, 2.3],\n",
       "       ['Iris-setosa', 5.8, 4.0, 1.2, 0.2],\n",
       "       ['Iris-virginica', 6.3, 3.3, 6.0, 2.5],\n",
       "       ['Iris-virginica', 7.2, 3.0, 5.8, 1.6],\n",
       "       ['Iris-setosa', 4.4, 3.2, 1.3, 0.2],\n",
       "       ['Iris-virginica', 5.8, 2.7, 5.1, 1.9],\n",
       "       ['Iris-setosa', 5.1, 3.8, 1.5, 0.3],\n",
       "       ['Iris-versicolor', 5.9, 3.0, 4.2, 1.5],\n",
       "       ['Iris-versicolor', 6.2, 2.2, 4.5, 1.5],\n",
       "       ['Iris-setosa', 4.6, 3.6, 1.0, 0.2],\n",
       "       ['Iris-setosa', 5.3, 3.7, 1.5, 0.2],\n",
       "       ['Iris-setosa', 5.0, 3.4, 1.5, 0.2],\n",
       "       ['Iris-setosa', 5.0, 3.6, 1.4, 0.2],\n",
       "       ['Iris-versicolor', 6.3, 2.3, 4.4, 1.3],\n",
       "       ['Iris-setosa', 5.2, 3.4, 1.4, 0.2],\n",
       "       ['Iris-versicolor', 4.9, 2.4, 3.3, 1.0],\n",
       "       ['Iris-virginica', 6.4, 3.1, 5.5, 1.8],\n",
       "       ['Iris-versicolor', 6.6, 3.0, 4.4, 1.4],\n",
       "       ['Iris-virginica', 6.0, 2.2, 5.0, 1.5],\n",
       "       ['Iris-setosa', 4.9, 3.1, 1.5, 0.1],\n",
       "       ['Iris-virginica', 6.5, 3.2, 5.1, 2.0],\n",
       "       ['Iris-virginica', 6.7, 3.3, 5.7, 2.1],\n",
       "       ['Iris-virginica', 7.4, 2.8, 6.1, 1.9],\n",
       "       ['Iris-versicolor', 5.7, 2.9, 4.2, 1.3],\n",
       "       ['Iris-setosa', 5.0, 3.4, 1.6, 0.4],\n",
       "       ['Iris-virginica', 6.7, 3.1, 5.6, 2.4],\n",
       "       ['Iris-virginica', 6.5, 3.0, 5.5, 1.8],\n",
       "       ['Iris-virginica', 6.4, 2.8, 5.6, 2.2],\n",
       "       ['Iris-versicolor', 6.7, 3.1, 4.4, 1.4],\n",
       "       ['Iris-virginica', 6.9, 3.1, 5.4, 2.1],\n",
       "       ['Iris-versicolor', 6.0, 2.2, 4.0, 1.0],\n",
       "       ['Iris-virginica', 6.2, 2.8, 4.8, 1.8],\n",
       "       ['Iris-virginica', 5.8, 2.7, 5.1, 1.9],\n",
       "       ['Iris-setosa', 4.7, 3.2, 1.6, 0.2],\n",
       "       ['Iris-virginica', 6.3, 2.5, 5.0, 1.9],\n",
       "       ['Iris-versicolor', 5.5, 2.4, 3.8, 1.1],\n",
       "       ['Iris-versicolor', 6.7, 3.0, 5.0, 1.7],\n",
       "       ['Iris-setosa', 5.1, 3.5, 1.4, 0.3],\n",
       "       ['Iris-setosa', 4.8, 3.0, 1.4, 0.3],\n",
       "       ['Iris-setosa', 5.1, 3.7, 1.5, 0.4],\n",
       "       ['Iris-setosa', 5.4, 3.9, 1.7, 0.4],\n",
       "       ['Iris-versicolor', 6.1, 3.0, 4.6, 1.4],\n",
       "       ['Iris-virginica', 7.2, 3.6, 6.1, 2.5],\n",
       "       ['Iris-virginica', 6.7, 2.5, 5.8, 1.8],\n",
       "       ['Iris-setosa', 5.4, 3.9, 1.3, 0.4],\n",
       "       ['Iris-setosa', 4.6, 3.1, 1.5, 0.2],\n",
       "       ['Iris-setosa', 4.3, 3.0, 1.1, 0.1],\n",
       "       ['Iris-virginica', 7.6, 3.0, 6.6, 2.1],\n",
       "       ['Iris-virginica', 6.8, 3.0, 5.5, 2.1],\n",
       "       ['Iris-setosa', 4.8, 3.0, 1.4, 0.1],\n",
       "       ['Iris-setosa', 4.6, 3.2, 1.4, 0.2],\n",
       "       ['Iris-versicolor', 5.5, 2.6, 4.4, 1.2],\n",
       "       ['Iris-versicolor', 5.6, 3.0, 4.1, 1.3],\n",
       "       ['Iris-setosa', 5.0, 3.5, 1.3, 0.3],\n",
       "       ['Iris-setosa', 4.6, 3.4, 1.4, 0.3],\n",
       "       ['Iris-versicolor', 6.1, 2.8, 4.7, 1.2],\n",
       "       ['Iris-setosa', 4.4, 2.9, 1.4, 0.2],\n",
       "       ['Iris-setosa', 4.7, 3.2, 1.3, 0.2],\n",
       "       ['Iris-virginica', 7.1, 3.0, 5.9, 2.1]], dtype=object)"
      ]
     },
     "execution_count": 26,
     "metadata": {},
     "output_type": "execute_result"
    }
   ],
   "source": [
    "#Suffle\n",
    "np.random.permutation(irisarray)"
   ]
  },
  {
   "cell_type": "markdown",
   "metadata": {},
   "source": [
    "The main difference between using the Shuffle and Permutation functions on an array are that Shuffle changes data in the array it is used on whereas Permutation will create a shuffled copy of the array."
   ]
  },
  {
   "cell_type": "code",
   "execution_count": 27,
   "metadata": {},
   "outputs": [],
   "source": [
    "# Printing prints irisarray shows it hasn't been permanently modified\n",
    "#print(irisarray)\n",
    "shufflediris = np.random.shuffle(irisarray)\n",
    "shufflediris"
   ]
  },
  {
   "cell_type": "markdown",
   "metadata": {},
   "source": [
    "## 3.0. Distribution Functions"
   ]
  },
  {
   "cell_type": "markdown",
   "metadata": {},
   "source": [
    "In this section I will discuss six different probability distributions that included in the numpy.random module.\n",
    "\n",
    "1. Beta Distribution\n",
    "2. Gamma Distribution\n",
    "3. Bernoulli Distribution\n",
    "4. Binomial Distribution\n",
    "5. Poisson Distribution\n",
    "6. Exponential Distribution\n",
    "\n",
    "In order to describe what they each do in terms I can understand I have used the example of a sales team calling leads.\n",
    "\n",
    "For the related Beta, Bernoulli, and Binomial Distributions I will using successes and failures for sales as the common thread. \n",
    "\n",
    "For Gamma, Poisson, and Exponential Distributions I will be using the time leads have between recieving calls from the sales team in my examples."
   ]
  },
  {
   "cell_type": "markdown",
   "metadata": {},
   "source": [
    "### 3.1. Beta, Gamma"
   ]
  },
  {
   "cell_type": "markdown",
   "metadata": {},
   "source": [
    "Both of these distributions are both \"Conjugate Prior Probability Distributions\". They supply the initial probability for different types of other distributions.\n",
    "\n",
    "**1. Beta Distribution**\n",
    "\n",
    "The Beta Distribution is used as the conjugate prior for the Bernoulli and Binomial distributions which we will discuss below as well as negative binomial and geometric distribution.\n",
    "\n",
    "**2. Gamma Distribution**\n",
    "\n",
    "The Gamma Distribution is used as the conjugate prior for continuous probabability distributions such as the exponential distributions and Poisson distribution, both of which we will discuss below.\n",
    "\n",
    "We will begin by discussing the Beta Distribution."
   ]
  },
  {
   "cell_type": "markdown",
   "metadata": {},
   "source": [
    "#### 3.1.1. Beta Distribution"
   ]
  },
  {
   "cell_type": "markdown",
   "metadata": {},
   "source": [
    "The beta distribution helps us to determine what we roughly think the probability of something happening will be before we begin seeing actual results. For example, say we work in sales in a call centre and we call 10 potential leads every day. Each one either results in sale (success) or doesn't (failure). We know from prior experience that the average conversion rate for a call is 10% or 0.10. If we wanted to get a rough prediction of the percentage of convertions for a year we could use the Beta distribution to show this."
   ]
  },
  {
   "cell_type": "markdown",
   "metadata": {},
   "source": [
    "If we say a person makes 10 calls a day over 250 working days that is 2500 calls per year. If our expected conversions is 10% based on last year conversion rate we could use the following to estimate the range of possible for the next years worth of calls. The number of successes are represented by the 250, failures are 2250, and the total number of calls is 2500."
   ]
  },
  {
   "cell_type": "code",
   "execution_count": 47,
   "metadata": {},
   "outputs": [
    {
     "data": {
      "text/plain": [
       "array([0.09569176, 0.10470659, 0.09061008, ..., 0.10085198, 0.10516522,\n",
       "       0.099498  ])"
      ]
     },
     "execution_count": 47,
     "metadata": {},
     "output_type": "execute_result"
    }
   ],
   "source": [
    "beta_data = np.random.beta(250, 2250, size=2500)\n",
    "beta_data"
   ]
  },
  {
   "cell_type": "code",
   "execution_count": 64,
   "metadata": {},
   "outputs": [
    {
     "name": "stderr",
     "output_type": "stream",
     "text": [
      "C:\\Users\\Conor\\Anaconda3\\lib\\site-packages\\scipy\\stats\\stats.py:1713: FutureWarning: Using a non-tuple sequence for multidimensional indexing is deprecated; use `arr[tuple(seq)]` instead of `arr[seq]`. In the future this will be interpreted as an array index, `arr[np.array(seq)]`, which will result either in an error or a different result.\n",
      "  return np.add.reduce(sorted[indexer] * weights, axis=axis) / sumval\n"
     ]
    },
    {
     "data": {
      "text/plain": [
       "[Text(0,0.5,'Frequency'), Text(0.5,0,'Beta(250,2250)')]"
      ]
     },
     "execution_count": 64,
     "metadata": {},
     "output_type": "execute_result"
    },
    {
     "data": {
      "image/png": "[encoded data removed]",
      "text/plain": [
       "<Figure size 432x288 with 1 Axes>"
      ]
     },
     "metadata": {
      "needs_background": "light"
     },
     "output_type": "display_data"
    }
   ],
   "source": [
    "ax = sns.distplot(beta_data,\n",
    "                kde=True,\n",
    "                bins=100,\n",
    "                kde_kws={\"color\": \"r\"},\n",
    "                hist_kws={\"linewidth\": 15,'alpha':1})\n",
    "ax.set(xlabel='Beta(250,2250)', ylabel='Frequency')"
   ]
  },
  {
   "cell_type": "markdown",
   "metadata": {},
   "source": [
    "As we can see from the above graph range of probabilities is distributed around the 10% mark and the probabilities for next years conversion rate is almost certainly going to be somewhere in the range of 9.5 - 10.5%."
   ]
  },
  {
   "cell_type": "markdown",
   "metadata": {},
   "source": [
    "However, if we got half way through the year and things were going better than expected, we could also update our estimations based on our new information and predict how things will go for the rest of the year.\n",
    "\n",
    "If our sales man had made 1250 calls and 200 were successful we could update our estimate by doing the following"
   ]
  },
  {
   "cell_type": "code",
   "execution_count": 57,
   "metadata": {},
   "outputs": [
    {
     "data": {
      "text/plain": [
       "array([0.12170058, 0.12241824, 0.1201691 , ..., 0.12109969, 0.12360475,\n",
       "       0.11784389])"
      ]
     },
     "execution_count": 57,
     "metadata": {},
     "output_type": "execute_result"
    }
   ],
   "source": [
    "updatebeta_data = np.random.beta(450, 3300, size=1250)\n",
    "updatebeta_data"
   ]
  },
  {
   "cell_type": "code",
   "execution_count": 62,
   "metadata": {},
   "outputs": [
    {
     "name": "stderr",
     "output_type": "stream",
     "text": [
      "C:\\Users\\Conor\\Anaconda3\\lib\\site-packages\\scipy\\stats\\stats.py:1713: FutureWarning: Using a non-tuple sequence for multidimensional indexing is deprecated; use `arr[tuple(seq)]` instead of `arr[seq]`. In the future this will be interpreted as an array index, `arr[np.array(seq)]`, which will result either in an error or a different result.\n",
      "  return np.add.reduce(sorted[indexer] * weights, axis=axis) / sumval\n"
     ]
    },
    {
     "data": {
      "text/plain": [
       "[Text(0,0.5,'Frequency'), Text(0.5,0,'Beta(450,3300)')]"
      ]
     },
     "execution_count": 62,
     "metadata": {},
     "output_type": "execute_result"
    },
    {
     "data": {
      "image/png": "[encoded data removed]",
      "text/plain": [
       "<Figure size 432x288 with 1 Axes>"
      ]
     },
     "metadata": {
      "needs_background": "light"
     },
     "output_type": "display_data"
    }
   ],
   "source": [
    "ax = sns.distplot(updatebeta_data,\n",
    "                kde=True,\n",
    "                bins=100,\n",
    "                kde_kws={\"color\": \"r\"},\n",
    "                hist_kws={\"linewidth\": 15,'alpha':1})\n",
    "ax.set(xlabel='Beta(450,3300)', ylabel='Frequency')"
   ]
  },
  {
   "cell_type": "markdown",
   "metadata": {},
   "source": [
    "In the above graph we can see that the new average convertion rate is around 12% and that we are likely to get a convertion rate of somewhere between 11.5% and 12.5% for the rest of the year."
   ]
  },
  {
   "cell_type": "markdown",
   "metadata": {},
   "source": [
    "#### 3.1.2. Gamma Distribution"
   ]
  },
  {
   "cell_type": "markdown",
   "metadata": {},
   "source": [
    "Gamma distributions model the time between events which can then be used to feed into a Poisson Distribution or Exponential distribution (which we will discuss below).\n",
    "\n",
    "Say we want to create a model for the time a lead must wait to be called by a member of our salesteam when we know the previous average calls per day is 1 per lead. The below model gets the predicted average number of calls per day per lead over the course of 250 days (the number of working days in a year)."
   ]
  },
  {
   "cell_type": "code",
   "execution_count": 141,
   "metadata": {},
   "outputs": [
    {
     "name": "stdout",
     "output_type": "stream",
     "text": [
      "Average time between calls: 1.0088328638877497\n"
     ]
    },
    {
     "name": "stderr",
     "output_type": "stream",
     "text": [
      "C:\\Users\\Conor\\Anaconda3\\lib\\site-packages\\scipy\\stats\\stats.py:1713: FutureWarning: Using a non-tuple sequence for multidimensional indexing is deprecated; use `arr[tuple(seq)]` instead of `arr[seq]`. In the future this will be interpreted as an array index, `arr[np.array(seq)]`, which will result either in an error or a different result.\n",
      "  return np.add.reduce(sorted[indexer] * weights, axis=axis) / sumval\n"
     ]
    },
    {
     "data": {
      "image/png": "[encoded data removed]",
      "text/plain": [
       "<Figure size 432x288 with 1 Axes>"
      ]
     },
     "metadata": {
      "needs_background": "light"
     },
     "output_type": "display_data"
    }
   ],
   "source": [
    "gamma_data = np.random.gamma(1, size=250)\n",
    "ax = sns.distplot(gamma_data,\n",
    "                kde=True,\n",
    "                bins=100,\n",
    "                kde_kws={\"color\": \"r\"},\n",
    "                hist_kws={\"linewidth\": 15,'alpha':1})\n",
    "ax.set(xlabel='Gamma', ylabel='Frequency')\n",
    "print(\"Average time between calls:\", np.mean(gamma_data))"
   ]
  },
  {
   "cell_type": "markdown",
   "metadata": {},
   "source": []
  },
  {
   "cell_type": "markdown",
   "metadata": {},
   "source": [
    "### 3.2. Bernoulli / Binomial"
   ]
  },
  {
   "cell_type": "markdown",
   "metadata": {},
   "source": [
    "A Bernoulli distribution is a the discrete probability distribution of a random variable with only two possible outcomes e.g. success / fail or true / false. The Bernoulli and Binomial distributions are related in that a Bernoulli distribution is basically a Binomial distribution with only one trial or attempt, whereas a Binomial distribution show the probability for multiple trials.\n",
    "\n",
    "If we continue our sales call analogy we could look at the single next call our salesman is about to make. The call will either result in sale (success) or no sale (fail). There is no \"Bernoulli\" function in numpy, instead we just use the np.random.binomial function, but only run one trial.\n",
    "\n",
    "The \"binomial\" function takes three parameters:\n",
    "1. The number of trials - since this is a Bernoulli, there will be only 1.\n",
    "2. The probability - this can be a float or an array. For this test we will take our update probality from the Beta distribution we calculated above.\n",
    "3. The size / shape of the distribution."
   ]
  },
  {
   "cell_type": "code",
   "execution_count": 98,
   "metadata": {},
   "outputs": [
    {
     "name": "stdout",
     "output_type": "stream",
     "text": [
      "Sum of successes: 3\n"
     ]
    },
    {
     "name": "stderr",
     "output_type": "stream",
     "text": [
      "C:\\Users\\Conor\\Anaconda3\\lib\\site-packages\\scipy\\stats\\stats.py:1713: FutureWarning: Using a non-tuple sequence for multidimensional indexing is deprecated; use `arr[tuple(seq)]` instead of `arr[seq]`. In the future this will be interpreted as an array index, `arr[np.array(seq)]`, which will result either in an error or a different result.\n",
      "  return np.add.reduce(sorted[indexer] * weights, axis=axis) / sumval\n"
     ]
    },
    {
     "data": {
      "text/plain": [
       "[Text(0,0.5,'Frequency'), Text(0.5,0,'Bernoulli')]"
      ]
     },
     "execution_count": 98,
     "metadata": {},
     "output_type": "execute_result"
    },
    {
     "data": {
      "image/png": "[encoded data removed]",
      "text/plain": [
       "<Figure size 432x288 with 1 Axes>"
      ]
     },
     "metadata": {
      "needs_background": "light"
     },
     "output_type": "display_data"
    }
   ],
   "source": [
    "bern_data = np.random.binomial(1, 0.12, 10)\n",
    "ax = sns.distplot(bern_data,\n",
    "                  kde=False,\n",
    "                  color ='skyblue',\n",
    "                  hist_kws={\"linewidth\": 15,'alpha':1})\n",
    "ax.set(xlabel='Bernoulli', ylabel='Frequency')\n",
    "print(\"Sum of successes:\", np.sum(bern_data))"
   ]
  },
  {
   "cell_type": "markdown",
   "metadata": {},
   "source": [
    "We can see from the above graph that the results can be slightly higher or lower than than the probability we inputted, but if we ran the test 100, or 1000 times rather than, the results would be closer to the 12% probability we entered."
   ]
  },
  {
   "cell_type": "code",
   "execution_count": 97,
   "metadata": {},
   "outputs": [
    {
     "name": "stdout",
     "output_type": "stream",
     "text": [
      "Sum of successes: 118\n"
     ]
    },
    {
     "name": "stderr",
     "output_type": "stream",
     "text": [
      "C:\\Users\\Conor\\Anaconda3\\lib\\site-packages\\scipy\\stats\\stats.py:1713: FutureWarning: Using a non-tuple sequence for multidimensional indexing is deprecated; use `arr[tuple(seq)]` instead of `arr[seq]`. In the future this will be interpreted as an array index, `arr[np.array(seq)]`, which will result either in an error or a different result.\n",
      "  return np.add.reduce(sorted[indexer] * weights, axis=axis) / sumval\n"
     ]
    },
    {
     "data": {
      "text/plain": [
       "[Text(0,0.5,'Frequency'), Text(0.5,0,'Bernoulli')]"
      ]
     },
     "execution_count": 97,
     "metadata": {},
     "output_type": "execute_result"
    },
    {
     "data": {
      "image/png": "[encoded data removed]",
      "text/plain": [
       "<Figure size 432x288 with 1 Axes>"
      ]
     },
     "metadata": {
      "needs_background": "light"
     },
     "output_type": "display_data"
    }
   ],
   "source": [
    "bern_updata = np.random.binomial(1, 0.12, 1000)\n",
    "ax = sns.distplot(bern_updata,\n",
    "                  kde=False,\n",
    "                  color ='skyblue',\n",
    "                  hist_kws={\"linewidth\": 15,'alpha':1})\n",
    "ax.set(xlabel='Bernoulli', ylabel='Frequency')\n",
    "print(\"Sum of successes:\", np.sum(bern_updata))"
   ]
  },
  {
   "cell_type": "markdown",
   "metadata": {},
   "source": [
    "As we can see the results are now closer to the 12%."
   ]
  },
  {
   "cell_type": "markdown",
   "metadata": {},
   "source": [
    "#### 3.2.1. Binomial Distribution"
   ]
  },
  {
   "cell_type": "markdown",
   "metadata": {},
   "source": [
    "As stated above, a Binomial distribution is an expansion on the Bernoulli distribution. It is used the to obtain the number of successes from a large number of Bernoulli trials. For example is we wanted to see how our salesman is perdicted to perform over the course of the next two year we could input the following values.\n",
    "1. The number of calls for two years is 5000 with each of these to a unique lead.\n",
    "2. The probability of success is 12%. (we could have used our Beta distribution as an input instead)\n",
    "3. The size of the sample we want to use - we will input 1000."
   ]
  },
  {
   "cell_type": "code",
   "execution_count": 106,
   "metadata": {},
   "outputs": [
    {
     "name": "stdout",
     "output_type": "stream",
     "text": [
      "Sum of successes: 599810\n",
      "Sum of failures: 4400190\n"
     ]
    },
    {
     "name": "stderr",
     "output_type": "stream",
     "text": [
      "C:\\Users\\Conor\\Anaconda3\\lib\\site-packages\\scipy\\stats\\stats.py:1713: FutureWarning: Using a non-tuple sequence for multidimensional indexing is deprecated; use `arr[tuple(seq)]` instead of `arr[seq]`. In the future this will be interpreted as an array index, `arr[np.array(seq)]`, which will result either in an error or a different result.\n",
      "  return np.add.reduce(sorted[indexer] * weights, axis=axis) / sumval\n"
     ]
    },
    {
     "data": {
      "image/png": "[encoded data removed]",
      "text/plain": [
       "<Figure size 432x288 with 1 Axes>"
      ]
     },
     "metadata": {
      "needs_background": "light"
     },
     "output_type": "display_data"
    }
   ],
   "source": [
    "binom_data2 = np.random.binomial(5000, 0.12, size=1000)\n",
    "ax = sns.distplot(binom_data2,\n",
    "                  kde=True,\n",
    "                  kde_kws={\"color\": \"r\"},\n",
    "                  hist_kws={\"linewidth\": 15,'alpha':1})\n",
    "ax.set(xlabel='Binomial', ylabel='Frequency')\n",
    "print(\"Sum of successes:\", np.sum(binom_data2))\n",
    "print(\"Sum of failures:\", 5000000-np.sum(binom_data2))"
   ]
  },
  {
   "cell_type": "code",
   "execution_count": 112,
   "metadata": {},
   "outputs": [
    {
     "name": "stdout",
     "output_type": "stream",
     "text": [
      "Average Success Rate: 11.996199999999998\n",
      "ModeResult(mode=array([593]), count=array([28]))\n"
     ]
    }
   ],
   "source": [
    "print(\"Average Success Rate:\", np.mean(binom_data2)/5000*100)"
   ]
  },
  {
   "cell_type": "markdown",
   "metadata": {},
   "source": [
    "As we can see above our average success rate is very close to the 12% probability we entered, but we can see there is a chance is could go up or down slightly allowing us to plan for these scenarios."
   ]
  },
  {
   "cell_type": "markdown",
   "metadata": {},
   "source": [
    "### 3.3. Poisson Distribution"
   ]
  },
  {
   "cell_type": "markdown",
   "metadata": {},
   "source": [
    "A Poisson distribution is related to a binomial distribution in that is also a discrete probability distribution, but it is used to \"predict the probability of a given number of events occuring in a fixed interval of time if these events occur with a constant rate and independently of the same time since the last event\" (see: https://en.wikipedia.org/wiki/Poisson_distribution).\n",
    "\n",
    "For example, we could look at things from the point of view of the recipients of our sales calls. Lets say our combined sales team calls each lead an average of once per day, but our record keeping is sloppy and there is a chance multiple members of the salesteam might call the same lead or the same salesperson might even call the same lead more than once. If there are 250 working days in a year our Poisson distribution would appear as below."
   ]
  },
  {
   "cell_type": "code",
   "execution_count": 116,
   "metadata": {},
   "outputs": [
    {
     "name": "stdout",
     "output_type": "stream",
     "text": [
      "Avarage probability of a call each day: 0.856\n"
     ]
    },
    {
     "name": "stderr",
     "output_type": "stream",
     "text": [
      "C:\\Users\\Conor\\Anaconda3\\lib\\site-packages\\scipy\\stats\\stats.py:1713: FutureWarning: Using a non-tuple sequence for multidimensional indexing is deprecated; use `arr[tuple(seq)]` instead of `arr[seq]`. In the future this will be interpreted as an array index, `arr[np.array(seq)]`, which will result either in an error or a different result.\n",
      "  return np.add.reduce(sorted[indexer] * weights, axis=axis) / sumval\n"
     ]
    },
    {
     "data": {
      "image/png": "[encoded data removed]",
      "text/plain": [
       "<Figure size 432x288 with 1 Axes>"
      ]
     },
     "metadata": {
      "needs_background": "light"
     },
     "output_type": "display_data"
    }
   ],
   "source": [
    "poisson_data = np.random.poisson(1, 250)\n",
    "ax = sns.distplot(poisson_data,\n",
    "                  kde=True,\n",
    "                  kde_kws={\"color\": \"r\"},\n",
    "                  hist_kws={\"linewidth\": 15,'alpha':1})\n",
    "ax.set(xlabel='Poisson', ylabel='Frequency')\n",
    "print(\"Avarage probability of a call each day:\", np.mean(poisson_data))"
   ]
  },
  {
   "cell_type": "markdown",
   "metadata": {},
   "source": [
    "As we can see above the chance of getting 1 call in a given day is close to 100%, but there is also a chance that there might be no calls in a day, or multiple calls from our salesteam in one day."
   ]
  },
  {
   "cell_type": "markdown",
   "metadata": {},
   "source": [
    "### 3.4. Exponential Distribution"
   ]
  },
  {
   "cell_type": "markdown",
   "metadata": {},
   "source": [
    "An exponential distribution describes the time between events in a Poisson process. As with the Poisson distribution it depends on being memoryless, in that each event is completely independent of eachother.\n",
    "\n",
    "Continuing with our badly organised team of salespeople and leads that are slowly edging towards getting an injunction. The exponential distribution will show us the average time the lead has to wait between recieving calls from our salespeople.\n",
    "\n",
    "Here we are entering the same arguements as with the Poisson distribution. The scale is the average time segment between in events, which in this case is one day. The size, is our sample size which is 250 days (the number of working days in a year)."
   ]
  },
  {
   "cell_type": "code",
   "execution_count": 129,
   "metadata": {},
   "outputs": [
    {
     "name": "stderr",
     "output_type": "stream",
     "text": [
      "C:\\Users\\Conor\\Anaconda3\\lib\\site-packages\\scipy\\stats\\stats.py:1713: FutureWarning: Using a non-tuple sequence for multidimensional indexing is deprecated; use `arr[tuple(seq)]` instead of `arr[seq]`. In the future this will be interpreted as an array index, `arr[np.array(seq)]`, which will result either in an error or a different result.\n",
      "  return np.add.reduce(sorted[indexer] * weights, axis=axis) / sumval\n"
     ]
    },
    {
     "data": {
      "image/png": "[encoded data removed]",
      "text/plain": [
       "<Figure size 432x288 with 1 Axes>"
      ]
     },
     "metadata": {
      "needs_background": "light"
     },
     "output_type": "display_data"
    }
   ],
   "source": [
    "expo_data = np.random.exponential(scale=1, size=250)\n",
    "ax = sns.distplot(expo_data,\n",
    "                  kde=True,\n",
    "                  kde_kws={\"color\": \"r\"},\n",
    "                  hist_kws={\"linewidth\": 60,'alpha':1})"
   ]
  },
  {
   "cell_type": "code",
   "execution_count": 130,
   "metadata": {},
   "outputs": [
    {
     "data": {
      "text/plain": [
       "0.994942003645638"
      ]
     },
     "execution_count": 130,
     "metadata": {},
     "output_type": "execute_result"
    }
   ],
   "source": [
    "expo_data.mean()"
   ]
  },
  {
   "cell_type": "markdown",
   "metadata": {},
   "source": [
    "As we can see from the results above the average time between calls is around one day,  but there is also a high probability that it is less than one day (might recieve multiple calls in a day), or there is a lower chance that the lead might have 2, 3, 4... days of peace before a call. However, exponential distributions by their nature have a maximum interval before the next call which in the above example appears to be 8-10 days."
   ]
  },
  {
   "cell_type": "markdown",
   "metadata": {},
   "source": [
    "## 4.0. Seeds and Pseudorandom Numbers"
   ]
  },
  {
   "cell_type": "markdown",
   "metadata": {},
   "source": [
    "### 4.1. Introduction to Seeds"
   ]
  },
  {
   "cell_type": "markdown",
   "metadata": {},
   "source": [
    "All Pseudorandom number generator require a seed to work. The basic explaination of the use for a seed is that using a seed will generate the same set of random numbers each time you feed it into a Pseudorandom Number Generator. "
   ]
  },
  {
   "cell_type": "markdown",
   "metadata": {},
   "source": [
    "For example, if I don't use a seed I will get a different number each time I generate a number using the rand function."
   ]
  },
  {
   "cell_type": "code",
   "execution_count": 35,
   "metadata": {},
   "outputs": [
    {
     "name": "stdout",
     "output_type": "stream",
     "text": [
      "Random number 1 without seed: 0.8023801435871755\n",
      "Random number 2 without seed: 0.9137821803097357\n",
      "Random number 3 without seed: 0.6150007828562263\n"
     ]
    }
   ],
   "source": [
    "print(\"Random number 1 without seed:\", np.random.rand())\n",
    "\n",
    "print(\"Random number 2 without seed:\", np.random.rand())\n",
    "\n",
    "print(\"Random number 3 without seed:\", np.random.rand())"
   ]
  },
  {
   "cell_type": "markdown",
   "metadata": {},
   "source": [
    "However, if I set a \"seed\" I will get back the same random number each time."
   ]
  },
  {
   "cell_type": "code",
   "execution_count": 36,
   "metadata": {
    "scrolled": true
   },
   "outputs": [
    {
     "name": "stdout",
     "output_type": "stream",
     "text": [
      "Random number 1 with seed: 0.417022004702574\n",
      "Random number 2 with seed: 0.417022004702574\n",
      "Random number 3 with seed: 0.417022004702574\n"
     ]
    }
   ],
   "source": [
    "np.random.seed(seed=1)\n",
    "print(\"Random number 1 with seed:\", np.random.rand())\n",
    "np.random.seed(seed=1)\n",
    "print(\"Random number 2 with seed:\", np.random.rand())\n",
    "np.random.seed(seed=1)\n",
    "print(\"Random number 3 with seed:\", np.random.rand())"
   ]
  },
  {
   "cell_type": "markdown",
   "metadata": {},
   "source": [
    "**Should you always use a seed in np.random?**\n",
    "\n",
    "In the above example I have entered a number to generate the seed. If I had left the arguement blank or entered \"None\" as the arguement Numpy would have used the best available seed on my operating system. In Windows, this is the CryptGenRandom() function which generates a random seed using data from a combination inputs like of mouse click and keyboard key hits times, the user process ID, the system clock, memory status and more. This then is combined to use as seed for further randomisation. Therefore, in most cases, it is better to leave the seed arguement blank to generate a random number unless you want to make it repeatable or you have found a better source of seeds."
   ]
  },
  {
   "cell_type": "markdown",
   "metadata": {},
   "source": [
    "**Where can I get a truely random seed?**\n",
    "\n",
    "There are two types of random number generator:\n",
    "1. True Random Number generators, and \n",
    "2. Psuedo Random Number generators\n",
    "\n",
    "The Numpy.Random package is a Pseudo random number generator. Pseudo Random number generators differ from True random number generators in that the numbers are not really random. They are based on algorithm (the Mersenne Twister in Python's and most other languages case) that selects numbers that seem random, but in reality can be reproduced or predicted if you manage to see what is happening \"under the hood\". This is what makes pseudo random number unreliable for security purposes such as encryption or generating passwords. True random number generators are impossible to predict (or close enough). One example of a True Random Number generator would be rolling a dice and seeing what you get. This would be pretty labourious for commercial application, so people have created several methods for getting true random numbers such as RANDOM.ORG which uses atmospheric noise or others that use quantum phenoena. As true random number generators can only produce a limited number of random numbers per second, they are often used to create the seed for a faster pseudorandom number generator. Python does have a seperate package for generating cryptographically strong random numbers, which is called Secrets."
   ]
  },
  {
   "cell_type": "markdown",
   "metadata": {},
   "source": [
    "### 4.2. Algorithms\n",
    "\n",
    "Periods: How many numbers a PRNG can generate before it starts repeating itself.\n",
    "\n",
    "Distributions: How random do you want the number to be. You can make them clump around different areas as we saw above\n",
    "\n",
    "Algorithms:\n",
    "\n",
    "1. **Middle Square method:** \n",
    "Square the middle number and on and on.\n",
    "\n",
    "2.  **Linear Congruential Generator:** Used in alot. Super simple to use. Flaws in distribution. To run you need\n",
    "    * Seed which is provided by the user\n",
    "    * Multiplier (a)\n",
    "    * Increment (c)\n",
    "    * Modulus (m) \n",
    "Seed = (a x seed + c) % m\n",
    "\n",
    "3. **Mersenne Twister:**\n",
    "As I mentioned above this is the algorithm used by Python and is relatively speaking pretty good. It can pass all of the Diehard tests for measuring the quality of random number generators but is not good enough for generating cryptographically strong random numbers. \n"
   ]
  },
  {
   "cell_type": "code",
   "execution_count": null,
   "metadata": {},
   "outputs": [],
   "source": []
  }
 ],
 "metadata": {
  "kernelspec": {
   "display_name": "Python 3",
   "language": "python",
   "name": "python3"
  },
  "language_info": {
   "codemirror_mode": {
    "name": "ipython",
    "version": 3
   },
   "file_extension": ".py",
   "mimetype": "text/x-python",
   "name": "python",
   "nbconvert_exporter": "python",
   "pygments_lexer": "ipython3",
   "version": "3.6.6"
  }
 },
 "nbformat": 4,
 "nbformat_minor": 2
}
